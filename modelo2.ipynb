{
 "cells": [
  {
   "cell_type": "markdown",
   "source": [
    "Nesse notebook decidi aprimorar o meu primeiro modelo, testei a implementação de TFIF e tunei o parâmetro de *n_estimators*, o qual implica na criação de mais árvores de decisão, assim tornando o algoritmo mais robusto."
   ],
   "metadata": {
    "collapsed": false
   }
  },
  {
   "cell_type": "code",
   "execution_count": 1,
   "source": [
    "import pandas as pd\n",
    "\n",
    "from sklearn.model_selection import train_test_split\n",
    "from sklearn.ensemble import RandomForestClassifier"
   ],
   "outputs": [],
   "metadata": {}
  },
  {
   "cell_type": "code",
   "execution_count": 2,
   "source": [
    "features = pd.read_excel('raw_data_with_labels.xlsx')\n",
    "features = features[features['y'].notnull()]\n",
    "features.shape"
   ],
   "outputs": [
    {
     "output_type": "execute_result",
     "data": {
      "text/plain": [
       "(500, 5)"
      ]
     },
     "metadata": {},
     "execution_count": 2
    }
   ],
   "metadata": {}
  },
  {
   "cell_type": "code",
   "execution_count": 3,
   "source": [
    "features['view_per_day'] = round(features['view_count'] / features['tempo_desde_pub'], 4)\n",
    "features = features.drop(['tempo_desde_pub'], axis=1)\n",
    "features.head()"
   ],
   "outputs": [
    {
     "output_type": "execute_result",
     "data": {
      "text/plain": [
       "                                               title    y upload_date  \\\n",
       "0              How Far is Too Far? | The Age of A.I.  0.0  2019-12-18   \n",
       "1  AlphaGo - The Movie | Full award-winning docum...  0.0  2020-03-13   \n",
       "2  Artificial intelligence and algorithms: pros a...  0.0  2019-09-26   \n",
       "3  #AndroidDevChallenge - Helpful innovation, pow...  0.0  2020-06-22   \n",
       "4  Become a DATA ANALYST with NO degree?!? The Go...  0.0  2021-03-17   \n",
       "\n",
       "   view_count  view_per_day  \n",
       "0    49218295    79002.0787  \n",
       "1    26896993    50087.5102  \n",
       "2     6424768     9100.2380  \n",
       "3     5779436    13255.5872  \n",
       "4     2037151    12125.8988  "
      ],
      "text/html": [
       "<div>\n",
       "<style scoped>\n",
       "    .dataframe tbody tr th:only-of-type {\n",
       "        vertical-align: middle;\n",
       "    }\n",
       "\n",
       "    .dataframe tbody tr th {\n",
       "        vertical-align: top;\n",
       "    }\n",
       "\n",
       "    .dataframe thead th {\n",
       "        text-align: right;\n",
       "    }\n",
       "</style>\n",
       "<table border=\"1\" class=\"dataframe\">\n",
       "  <thead>\n",
       "    <tr style=\"text-align: right;\">\n",
       "      <th></th>\n",
       "      <th>title</th>\n",
       "      <th>y</th>\n",
       "      <th>upload_date</th>\n",
       "      <th>view_count</th>\n",
       "      <th>view_per_day</th>\n",
       "    </tr>\n",
       "  </thead>\n",
       "  <tbody>\n",
       "    <tr>\n",
       "      <th>0</th>\n",
       "      <td>How Far is Too Far? | The Age of A.I.</td>\n",
       "      <td>0.0</td>\n",
       "      <td>2019-12-18</td>\n",
       "      <td>49218295</td>\n",
       "      <td>79002.0787</td>\n",
       "    </tr>\n",
       "    <tr>\n",
       "      <th>1</th>\n",
       "      <td>AlphaGo - The Movie | Full award-winning docum...</td>\n",
       "      <td>0.0</td>\n",
       "      <td>2020-03-13</td>\n",
       "      <td>26896993</td>\n",
       "      <td>50087.5102</td>\n",
       "    </tr>\n",
       "    <tr>\n",
       "      <th>2</th>\n",
       "      <td>Artificial intelligence and algorithms: pros a...</td>\n",
       "      <td>0.0</td>\n",
       "      <td>2019-09-26</td>\n",
       "      <td>6424768</td>\n",
       "      <td>9100.2380</td>\n",
       "    </tr>\n",
       "    <tr>\n",
       "      <th>3</th>\n",
       "      <td>#AndroidDevChallenge - Helpful innovation, pow...</td>\n",
       "      <td>0.0</td>\n",
       "      <td>2020-06-22</td>\n",
       "      <td>5779436</td>\n",
       "      <td>13255.5872</td>\n",
       "    </tr>\n",
       "    <tr>\n",
       "      <th>4</th>\n",
       "      <td>Become a DATA ANALYST with NO degree?!? The Go...</td>\n",
       "      <td>0.0</td>\n",
       "      <td>2021-03-17</td>\n",
       "      <td>2037151</td>\n",
       "      <td>12125.8988</td>\n",
       "    </tr>\n",
       "  </tbody>\n",
       "</table>\n",
       "</div>"
      ]
     },
     "metadata": {},
     "execution_count": 3
    }
   ],
   "metadata": {}
  },
  {
   "cell_type": "code",
   "execution_count": 5,
   "source": [
    "X = features.copy().drop(['y', 'upload_date'], axis=1)\n",
    "y = features['y']"
   ],
   "outputs": [],
   "metadata": {}
  },
  {
   "cell_type": "code",
   "execution_count": 6,
   "source": [
    "Xtrain, Xval, ytrain, yval = train_test_split(X, y, test_size=0.5, random_state=0)\n",
    "Xtrain.shape, Xval.shape, ytrain.shape, yval.shape"
   ],
   "outputs": [
    {
     "output_type": "execute_result",
     "data": {
      "text/plain": [
       "((250, 3), (250, 3), (250,), (250,))"
      ]
     },
     "metadata": {},
     "execution_count": 6
    }
   ],
   "metadata": {}
  },
  {
   "cell_type": "markdown",
   "source": [
    "Nesse momento, configuro o TFIF com um mínimo de 2 exemplos de palavra"
   ],
   "metadata": {
    "collapsed": false
   }
  },
  {
   "cell_type": "code",
   "execution_count": 7,
   "source": [
    "from sklearn.feature_extraction.text import TfidfVectorizer\n",
    "\n",
    "title_train = Xtrain['title']\n",
    "title_val = Xval['title']\n",
    "\n",
    "title_vec = TfidfVectorizer(min_df=2) #min_df = minimo de exemplos de palavra\n",
    "title_bow_train = title_vec.fit_transform(title_train)\n",
    "title_bow_val = title_vec.transform(title_val)"
   ],
   "outputs": [],
   "metadata": {}
  },
  {
   "cell_type": "code",
   "execution_count": 8,
   "source": [
    "title_bow_train.shape"
   ],
   "outputs": [
    {
     "output_type": "execute_result",
     "data": {
      "text/plain": [
       "(250, 238)"
      ]
     },
     "metadata": {},
     "execution_count": 8
    }
   ],
   "metadata": {}
  },
  {
   "cell_type": "code",
   "execution_count": 9,
   "source": [
    "from scipy.sparse import hstack\n",
    "\n",
    "Xtrain_wtitle = hstack([Xtrain.drop(['title'], axis=1), title_bow_train])\n",
    "Xval_wtitle = hstack([Xval.drop(['title'], axis=1), title_bow_val])"
   ],
   "outputs": [],
   "metadata": {}
  },
  {
   "cell_type": "code",
   "execution_count": 10,
   "source": [
    "Xtrain_wtitle.shape, Xval_wtitle.shape"
   ],
   "outputs": [
    {
     "output_type": "execute_result",
     "data": {
      "text/plain": [
       "((250, 240), (250, 240))"
      ]
     },
     "metadata": {},
     "execution_count": 10
    }
   ],
   "metadata": {}
  },
  {
   "cell_type": "code",
   "execution_count": 11,
   "source": [
    "mdl = RandomForestClassifier(n_estimators=1000, random_state=0, class_weight='balanced', n_jobs=6)\n",
    "mdl.fit(Xtrain_wtitle, ytrain)"
   ],
   "outputs": [
    {
     "output_type": "execute_result",
     "data": {
      "text/plain": [
       "RandomForestClassifier(class_weight='balanced', n_estimators=1000, n_jobs=6,\n",
       "                       random_state=0)"
      ]
     },
     "metadata": {},
     "execution_count": 11
    }
   ],
   "metadata": {}
  },
  {
   "cell_type": "code",
   "execution_count": 12,
   "source": [
    "p = mdl.predict_proba(Xval_wtitle)[ : , 1]"
   ],
   "outputs": [],
   "metadata": {}
  },
  {
   "cell_type": "code",
   "execution_count": 13,
   "source": [
    "from sklearn.metrics import roc_auc_score, average_precision_score"
   ],
   "outputs": [],
   "metadata": {}
  },
  {
   "cell_type": "code",
   "execution_count": 14,
   "source": [
    "average_precision_score(yval, p)"
   ],
   "outputs": [
    {
     "output_type": "execute_result",
     "data": {
      "text/plain": [
       "0.32909939825559575"
      ]
     },
     "metadata": {},
     "execution_count": 14
    }
   ],
   "metadata": {}
  },
  {
   "cell_type": "code",
   "execution_count": 15,
   "source": [
    "roc_auc_score(yval, p)"
   ],
   "outputs": [
    {
     "output_type": "execute_result",
     "data": {
      "text/plain": [
       "0.7491956241956242"
      ]
     },
     "metadata": {},
     "execution_count": 15
    }
   ],
   "metadata": {}
  },
  {
   "cell_type": "markdown",
   "source": [
    "Após avaliar o modelo, concluí que com as alterações feitas nesse segundo momento foram benéficas para o algoritmo.\n",
    "Tive um aumento nas duas métricas (**Precisão** e **ROC AUC**)"
   ],
   "metadata": {
    "collapsed": false
   }
  },
  {
   "cell_type": "markdown",
   "source": [
    "## Active Learning"
   ],
   "metadata": {}
  },
  {
   "cell_type": "markdown",
   "source": [
    "Decidi testar Active Learning para a melhoria do algortimo.\n",
    "Para isso, separei exemplos que eu não havia categorizado se assistiria ou não o vídeo e o meu modelo anterior apontou um score entre 0.18 e 1.\n",
    "O motivo disso é: esses vídeos são os que o algoritmo anterior não conseguiu classificar de forma binária (muito perto de 0 ou muito perto de 1), e irei usar eles para classificar com 0 ou 1 e treinar o modelo novamente.\n",
    "\n",
    "*Spoiler Alert:* Não contribuiu muito para o próximo algoritmo."
   ],
   "metadata": {
    "collapsed": false
   }
  },
  {
   "cell_type": "code",
   "execution_count": 20,
   "source": [
    "df_unlabeled = pd.read_excel('raw_data_with_labels.xlsx')\n",
    "df_unlabeled = df_unlabeled[df_unlabeled['y'].isnull()].dropna(how='all')\n",
    "df_unlabeled.shape"
   ],
   "outputs": [
    {
     "output_type": "execute_result",
     "data": {
      "text/plain": [
       "(698, 5)"
      ]
     },
     "metadata": {},
     "execution_count": 20
    }
   ],
   "metadata": {}
  },
  {
   "cell_type": "code",
   "execution_count": 22,
   "source": [
    "features_u = df_unlabeled.copy()\r\n",
    "features_u['view_per_day'] = round(features_u['view_count'] / features_u['tempo_desde_pub'], 4)\r\n",
    "features_u = features_u.drop(['tempo_desde_pub'], axis=1)\r\n",
    "features_u.head()"
   ],
   "outputs": [
    {
     "output_type": "execute_result",
     "data": {
      "text/plain": [
       "                                                 title   y upload_date  \\\n",
       "500  A day in the life of a Data Scientist (lifesty... NaN  2020-12-10   \n",
       "501  Live- Implementation of End To End Kaggle Mach... NaN  2020-06-30   \n",
       "502  Live- Implementation of End To End Kaggle Mach... NaN  2020-06-30   \n",
       "503  How to learn data science in 2021 (the minimiz... NaN  2020-12-26   \n",
       "504  All Machine Learning Models Explained in 5 Min... NaN  2020-05-15   \n",
       "\n",
       "     view_count  view_per_day  \n",
       "500      259210      978.1509  \n",
       "501      254697      595.0864  \n",
       "502      254697      595.0864  \n",
       "503      251737     1010.9920  \n",
       "504      248865      525.0316  "
      ],
      "text/html": [
       "<div>\n",
       "<style scoped>\n",
       "    .dataframe tbody tr th:only-of-type {\n",
       "        vertical-align: middle;\n",
       "    }\n",
       "\n",
       "    .dataframe tbody tr th {\n",
       "        vertical-align: top;\n",
       "    }\n",
       "\n",
       "    .dataframe thead th {\n",
       "        text-align: right;\n",
       "    }\n",
       "</style>\n",
       "<table border=\"1\" class=\"dataframe\">\n",
       "  <thead>\n",
       "    <tr style=\"text-align: right;\">\n",
       "      <th></th>\n",
       "      <th>title</th>\n",
       "      <th>y</th>\n",
       "      <th>upload_date</th>\n",
       "      <th>view_count</th>\n",
       "      <th>view_per_day</th>\n",
       "    </tr>\n",
       "  </thead>\n",
       "  <tbody>\n",
       "    <tr>\n",
       "      <th>500</th>\n",
       "      <td>A day in the life of a Data Scientist (lifesty...</td>\n",
       "      <td>NaN</td>\n",
       "      <td>2020-12-10</td>\n",
       "      <td>259210</td>\n",
       "      <td>978.1509</td>\n",
       "    </tr>\n",
       "    <tr>\n",
       "      <th>501</th>\n",
       "      <td>Live- Implementation of End To End Kaggle Mach...</td>\n",
       "      <td>NaN</td>\n",
       "      <td>2020-06-30</td>\n",
       "      <td>254697</td>\n",
       "      <td>595.0864</td>\n",
       "    </tr>\n",
       "    <tr>\n",
       "      <th>502</th>\n",
       "      <td>Live- Implementation of End To End Kaggle Mach...</td>\n",
       "      <td>NaN</td>\n",
       "      <td>2020-06-30</td>\n",
       "      <td>254697</td>\n",
       "      <td>595.0864</td>\n",
       "    </tr>\n",
       "    <tr>\n",
       "      <th>503</th>\n",
       "      <td>How to learn data science in 2021 (the minimiz...</td>\n",
       "      <td>NaN</td>\n",
       "      <td>2020-12-26</td>\n",
       "      <td>251737</td>\n",
       "      <td>1010.9920</td>\n",
       "    </tr>\n",
       "    <tr>\n",
       "      <th>504</th>\n",
       "      <td>All Machine Learning Models Explained in 5 Min...</td>\n",
       "      <td>NaN</td>\n",
       "      <td>2020-05-15</td>\n",
       "      <td>248865</td>\n",
       "      <td>525.0316</td>\n",
       "    </tr>\n",
       "  </tbody>\n",
       "</table>\n",
       "</div>"
      ]
     },
     "metadata": {},
     "execution_count": 22
    }
   ],
   "metadata": {}
  },
  {
   "cell_type": "code",
   "execution_count": 26,
   "source": [
    "title_u = features_u['title']\r\n",
    "title_bow_u = title_vec.transform(title_u)\r\n",
    "title_bow_u"
   ],
   "outputs": [
    {
     "output_type": "execute_result",
     "data": {
      "text/plain": [
       "<698x238 sparse matrix of type '<class 'numpy.float64'>'\n",
       "\twith 3500 stored elements in Compressed Sparse Row format>"
      ]
     },
     "metadata": {},
     "execution_count": 26
    }
   ],
   "metadata": {}
  },
  {
   "cell_type": "code",
   "execution_count": 28,
   "source": [
    "Xu_wtitle = hstack([features_u[['view_count', 'view_per_day']], title_bow_u])\r\n",
    "Xu_wtitle"
   ],
   "outputs": [
    {
     "output_type": "execute_result",
     "data": {
      "text/plain": [
       "<698x240 sparse matrix of type '<class 'numpy.float64'>'\n",
       "\twith 4896 stored elements in COOrdinate format>"
      ]
     },
     "metadata": {},
     "execution_count": 28
    }
   ],
   "metadata": {}
  },
  {
   "cell_type": "code",
   "execution_count": 29,
   "source": [
    "pu = mdl.predict_proba(Xu_wtitle)[ : , 1]\r\n",
    "df_unlabeled['p'] = pu"
   ],
   "outputs": [],
   "metadata": {}
  },
  {
   "cell_type": "code",
   "execution_count": 30,
   "source": [
    "df_unlabeled.head()"
   ],
   "outputs": [
    {
     "output_type": "execute_result",
     "data": {
      "text/plain": [
       "                                                 title   y upload_date  \\\n",
       "500  A day in the life of a Data Scientist (lifesty... NaN  2020-12-10   \n",
       "501  Live- Implementation of End To End Kaggle Mach... NaN  2020-06-30   \n",
       "502  Live- Implementation of End To End Kaggle Mach... NaN  2020-06-30   \n",
       "503  How to learn data science in 2021 (the minimiz... NaN  2020-12-26   \n",
       "504  All Machine Learning Models Explained in 5 Min... NaN  2020-05-15   \n",
       "\n",
       "     view_count  tempo_desde_pub      p  \n",
       "500      259210            265.0  0.154  \n",
       "501      254697            428.0  0.245  \n",
       "502      254697            428.0  0.245  \n",
       "503      251737            249.0  0.130  \n",
       "504      248865            474.0  0.097  "
      ],
      "text/html": [
       "<div>\n",
       "<style scoped>\n",
       "    .dataframe tbody tr th:only-of-type {\n",
       "        vertical-align: middle;\n",
       "    }\n",
       "\n",
       "    .dataframe tbody tr th {\n",
       "        vertical-align: top;\n",
       "    }\n",
       "\n",
       "    .dataframe thead th {\n",
       "        text-align: right;\n",
       "    }\n",
       "</style>\n",
       "<table border=\"1\" class=\"dataframe\">\n",
       "  <thead>\n",
       "    <tr style=\"text-align: right;\">\n",
       "      <th></th>\n",
       "      <th>title</th>\n",
       "      <th>y</th>\n",
       "      <th>upload_date</th>\n",
       "      <th>view_count</th>\n",
       "      <th>tempo_desde_pub</th>\n",
       "      <th>p</th>\n",
       "    </tr>\n",
       "  </thead>\n",
       "  <tbody>\n",
       "    <tr>\n",
       "      <th>500</th>\n",
       "      <td>A day in the life of a Data Scientist (lifesty...</td>\n",
       "      <td>NaN</td>\n",
       "      <td>2020-12-10</td>\n",
       "      <td>259210</td>\n",
       "      <td>265.0</td>\n",
       "      <td>0.154</td>\n",
       "    </tr>\n",
       "    <tr>\n",
       "      <th>501</th>\n",
       "      <td>Live- Implementation of End To End Kaggle Mach...</td>\n",
       "      <td>NaN</td>\n",
       "      <td>2020-06-30</td>\n",
       "      <td>254697</td>\n",
       "      <td>428.0</td>\n",
       "      <td>0.245</td>\n",
       "    </tr>\n",
       "    <tr>\n",
       "      <th>502</th>\n",
       "      <td>Live- Implementation of End To End Kaggle Mach...</td>\n",
       "      <td>NaN</td>\n",
       "      <td>2020-06-30</td>\n",
       "      <td>254697</td>\n",
       "      <td>428.0</td>\n",
       "      <td>0.245</td>\n",
       "    </tr>\n",
       "    <tr>\n",
       "      <th>503</th>\n",
       "      <td>How to learn data science in 2021 (the minimiz...</td>\n",
       "      <td>NaN</td>\n",
       "      <td>2020-12-26</td>\n",
       "      <td>251737</td>\n",
       "      <td>249.0</td>\n",
       "      <td>0.130</td>\n",
       "    </tr>\n",
       "    <tr>\n",
       "      <th>504</th>\n",
       "      <td>All Machine Learning Models Explained in 5 Min...</td>\n",
       "      <td>NaN</td>\n",
       "      <td>2020-05-15</td>\n",
       "      <td>248865</td>\n",
       "      <td>474.0</td>\n",
       "      <td>0.097</td>\n",
       "    </tr>\n",
       "  </tbody>\n",
       "</table>\n",
       "</div>"
      ]
     },
     "metadata": {},
     "execution_count": 30
    }
   ],
   "metadata": {}
  },
  {
   "cell_type": "code",
   "execution_count": 63,
   "source": [
    "mask_u = (df_unlabeled['p'] >= 0.18) & (df_unlabeled['p'] <= 1)\r\n",
    "mask_u.sum()"
   ],
   "outputs": [
    {
     "output_type": "execute_result",
     "data": {
      "text/plain": [
       "72"
      ]
     },
     "metadata": {},
     "execution_count": 63
    }
   ],
   "metadata": {}
  },
  {
   "cell_type": "code",
   "execution_count": 65,
   "source": [
    "dificeis = df_unlabeled[mask_u].sort_values('p')\r\n",
    "dificeis.head()"
   ],
   "outputs": [
    {
     "output_type": "execute_result",
     "data": {
      "text/plain": [
       "                                                 title   y upload_date  \\\n",
       "978  Data Science In Biology | How a biologist beca... NaN  2020-08-30   \n",
       "840                    Five Data Science Project Ideas NaN  2020-07-02   \n",
       "555                  Cheapest Deep Learning PC in 2020 NaN  2020-02-10   \n",
       "973  Step By Step Process In EDA And Feature Engine... NaN  2021-08-29   \n",
       "880  AIML Facemask Detector | Mask Detection Using ... NaN  2021-02-22   \n",
       "\n",
       "     view_count  tempo_desde_pub      p  \n",
       "978        4999            367.0  0.180  \n",
       "840       12356            426.0  0.180  \n",
       "555      100602            569.0  0.181  \n",
       "973        5093              3.0  0.182  \n",
       "880        9806            191.0  0.182  "
      ],
      "text/html": [
       "<div>\n",
       "<style scoped>\n",
       "    .dataframe tbody tr th:only-of-type {\n",
       "        vertical-align: middle;\n",
       "    }\n",
       "\n",
       "    .dataframe tbody tr th {\n",
       "        vertical-align: top;\n",
       "    }\n",
       "\n",
       "    .dataframe thead th {\n",
       "        text-align: right;\n",
       "    }\n",
       "</style>\n",
       "<table border=\"1\" class=\"dataframe\">\n",
       "  <thead>\n",
       "    <tr style=\"text-align: right;\">\n",
       "      <th></th>\n",
       "      <th>title</th>\n",
       "      <th>y</th>\n",
       "      <th>upload_date</th>\n",
       "      <th>view_count</th>\n",
       "      <th>tempo_desde_pub</th>\n",
       "      <th>p</th>\n",
       "    </tr>\n",
       "  </thead>\n",
       "  <tbody>\n",
       "    <tr>\n",
       "      <th>978</th>\n",
       "      <td>Data Science In Biology | How a biologist beca...</td>\n",
       "      <td>NaN</td>\n",
       "      <td>2020-08-30</td>\n",
       "      <td>4999</td>\n",
       "      <td>367.0</td>\n",
       "      <td>0.180</td>\n",
       "    </tr>\n",
       "    <tr>\n",
       "      <th>840</th>\n",
       "      <td>Five Data Science Project Ideas</td>\n",
       "      <td>NaN</td>\n",
       "      <td>2020-07-02</td>\n",
       "      <td>12356</td>\n",
       "      <td>426.0</td>\n",
       "      <td>0.180</td>\n",
       "    </tr>\n",
       "    <tr>\n",
       "      <th>555</th>\n",
       "      <td>Cheapest Deep Learning PC in 2020</td>\n",
       "      <td>NaN</td>\n",
       "      <td>2020-02-10</td>\n",
       "      <td>100602</td>\n",
       "      <td>569.0</td>\n",
       "      <td>0.181</td>\n",
       "    </tr>\n",
       "    <tr>\n",
       "      <th>973</th>\n",
       "      <td>Step By Step Process In EDA And Feature Engine...</td>\n",
       "      <td>NaN</td>\n",
       "      <td>2021-08-29</td>\n",
       "      <td>5093</td>\n",
       "      <td>3.0</td>\n",
       "      <td>0.182</td>\n",
       "    </tr>\n",
       "    <tr>\n",
       "      <th>880</th>\n",
       "      <td>AIML Facemask Detector | Mask Detection Using ...</td>\n",
       "      <td>NaN</td>\n",
       "      <td>2021-02-22</td>\n",
       "      <td>9806</td>\n",
       "      <td>191.0</td>\n",
       "      <td>0.182</td>\n",
       "    </tr>\n",
       "  </tbody>\n",
       "</table>\n",
       "</div>"
      ]
     },
     "metadata": {},
     "execution_count": 65
    }
   ],
   "metadata": {}
  },
  {
   "cell_type": "code",
   "execution_count": 67,
   "source": [
    "aleatorios = df_unlabeled[~mask_u].sample(28)\r\n",
    "aleatorios.head()"
   ],
   "outputs": [
    {
     "output_type": "execute_result",
     "data": {
      "text/plain": [
       "                                                  title   y upload_date  \\\n",
       "1029       BSc Mathematics, Statistics and Data Science NaN  2020-07-01   \n",
       "875   Machine Learning Steps | What Is Machine Learn... NaN  2021-04-27   \n",
       "929   Winner's interview: Dark of the Moon - 1st in ... NaN  2020-10-13   \n",
       "1147  Institutions in Hyderabad | Data Science Insti... NaN  2021-08-27   \n",
       "708                  Is Becoming a Data Scientist Hard? NaN  2020-06-11   \n",
       "\n",
       "      view_count  tempo_desde_pub      p  \n",
       "1029        3247            427.0  0.097  \n",
       "875        10084            127.0  0.135  \n",
       "929         7206            323.0  0.169  \n",
       "1147        1409              5.0  0.069  \n",
       "708        24547            447.0  0.028  "
      ],
      "text/html": [
       "<div>\n",
       "<style scoped>\n",
       "    .dataframe tbody tr th:only-of-type {\n",
       "        vertical-align: middle;\n",
       "    }\n",
       "\n",
       "    .dataframe tbody tr th {\n",
       "        vertical-align: top;\n",
       "    }\n",
       "\n",
       "    .dataframe thead th {\n",
       "        text-align: right;\n",
       "    }\n",
       "</style>\n",
       "<table border=\"1\" class=\"dataframe\">\n",
       "  <thead>\n",
       "    <tr style=\"text-align: right;\">\n",
       "      <th></th>\n",
       "      <th>title</th>\n",
       "      <th>y</th>\n",
       "      <th>upload_date</th>\n",
       "      <th>view_count</th>\n",
       "      <th>tempo_desde_pub</th>\n",
       "      <th>p</th>\n",
       "    </tr>\n",
       "  </thead>\n",
       "  <tbody>\n",
       "    <tr>\n",
       "      <th>1029</th>\n",
       "      <td>BSc Mathematics, Statistics and Data Science</td>\n",
       "      <td>NaN</td>\n",
       "      <td>2020-07-01</td>\n",
       "      <td>3247</td>\n",
       "      <td>427.0</td>\n",
       "      <td>0.097</td>\n",
       "    </tr>\n",
       "    <tr>\n",
       "      <th>875</th>\n",
       "      <td>Machine Learning Steps | What Is Machine Learn...</td>\n",
       "      <td>NaN</td>\n",
       "      <td>2021-04-27</td>\n",
       "      <td>10084</td>\n",
       "      <td>127.0</td>\n",
       "      <td>0.135</td>\n",
       "    </tr>\n",
       "    <tr>\n",
       "      <th>929</th>\n",
       "      <td>Winner's interview: Dark of the Moon - 1st in ...</td>\n",
       "      <td>NaN</td>\n",
       "      <td>2020-10-13</td>\n",
       "      <td>7206</td>\n",
       "      <td>323.0</td>\n",
       "      <td>0.169</td>\n",
       "    </tr>\n",
       "    <tr>\n",
       "      <th>1147</th>\n",
       "      <td>Institutions in Hyderabad | Data Science Insti...</td>\n",
       "      <td>NaN</td>\n",
       "      <td>2021-08-27</td>\n",
       "      <td>1409</td>\n",
       "      <td>5.0</td>\n",
       "      <td>0.069</td>\n",
       "    </tr>\n",
       "    <tr>\n",
       "      <th>708</th>\n",
       "      <td>Is Becoming a Data Scientist Hard?</td>\n",
       "      <td>NaN</td>\n",
       "      <td>2020-06-11</td>\n",
       "      <td>24547</td>\n",
       "      <td>447.0</td>\n",
       "      <td>0.028</td>\n",
       "    </tr>\n",
       "  </tbody>\n",
       "</table>\n",
       "</div>"
      ]
     },
     "metadata": {},
     "execution_count": 67
    }
   ],
   "metadata": {}
  },
  {
   "cell_type": "code",
   "execution_count": 68,
   "source": [
    "pd.concat([dificeis, aleatorios]).to_csv('active_label1.csv')"
   ],
   "outputs": [],
   "metadata": {}
  }
 ],
 "metadata": {
  "orig_nbformat": 4,
  "language_info": {
   "name": "python",
   "version": "3.8.8",
   "mimetype": "text/x-python",
   "codemirror_mode": {
    "name": "ipython",
    "version": 3
   },
   "pygments_lexer": "ipython3",
   "nbconvert_exporter": "python",
   "file_extension": ".py"
  },
  "kernelspec": {
   "name": "python3",
   "display_name": "Python 3.8.8 64-bit ('base': conda)"
  },
  "interpreter": {
   "hash": "587a51ddbfb680f90d5c22d4e7cd2f588780df6b3eef39086aba3fbb77a2077c"
  }
 },
 "nbformat": 4,
 "nbformat_minor": 2
}