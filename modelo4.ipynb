{
 "cells": [
  {
   "cell_type": "markdown",
   "source": [
    "Nesse notebook, começo a testar outros algoritmos e faço processo de tunning nos parâmetros do modelo.\n",
    "A ideia aqui é chegar em melhores métricas de avaliação de modelo."
   ],
   "metadata": {
    "collapsed": false
   }
  },
  {
   "cell_type": "code",
   "metadata": {
    "collapsed": true,
    "pycharm": {
     "name": "#%%\n"
    }
   },
   "source": [
    "import pandas as pd\n",
    "from scipy.sparse import hstack\n",
    "\n",
    "from sklearn.model_selection import train_test_split\n",
    "from sklearn.feature_extraction.text import TfidfVectorizer\n",
    "from sklearn.metrics import roc_auc_score, average_precision_score\n",
    "from skopt import forest_minimize\n",
    "\n",
    "from lightgbm import LGBMClassifier\n",
    "from sklearn.ensemble import RandomForestClassifier\n",
    "from sklearn.linear_model import LogisticRegression"
   ],
   "execution_count": 1,
   "outputs": []
  },
  {
   "cell_type": "code",
   "source": [
    "df = pd.read_csv(\"fully_annoteded.csv\").dropna(subset=['y'])\n",
    "df.head()"
   ],
   "metadata": {
    "collapsed": false,
    "pycharm": {
     "name": "#%%\n"
    }
   },
   "execution_count": 2,
   "outputs": [
    {
     "data": {
      "text/plain": "                                               title  y upload_date  \\\n0      \"Kaggle: command not found fix\" for Mac Users  0  30/11/2020   \n1  #1 - Data Science na PrÃ¡tica - Conhecendo o K...  0  03/08/2020   \n2  #AndroidDevChallenge - Helpful innovation, pow...  0  22/06/2020   \n3  #Data Science SQL Full Outer join Keyword | Ek...  0  28/08/2021   \n4  #Data Science SQL Left join Keyword | Ekasclou...  0  28/08/2021   \n\n   view_count  tempo_desde_pub  \n0         216              275  \n1         808              394  \n2     5779436              436  \n3           1                4  \n4           0                4  ",
      "text/html": "<div>\n<style scoped>\n    .dataframe tbody tr th:only-of-type {\n        vertical-align: middle;\n    }\n\n    .dataframe tbody tr th {\n        vertical-align: top;\n    }\n\n    .dataframe thead th {\n        text-align: right;\n    }\n</style>\n<table border=\"1\" class=\"dataframe\">\n  <thead>\n    <tr style=\"text-align: right;\">\n      <th></th>\n      <th>title</th>\n      <th>y</th>\n      <th>upload_date</th>\n      <th>view_count</th>\n      <th>tempo_desde_pub</th>\n    </tr>\n  </thead>\n  <tbody>\n    <tr>\n      <th>0</th>\n      <td>\"Kaggle: command not found fix\" for Mac Users</td>\n      <td>0</td>\n      <td>30/11/2020</td>\n      <td>216</td>\n      <td>275</td>\n    </tr>\n    <tr>\n      <th>1</th>\n      <td>#1 - Data Science na PrÃ¡tica - Conhecendo o K...</td>\n      <td>0</td>\n      <td>03/08/2020</td>\n      <td>808</td>\n      <td>394</td>\n    </tr>\n    <tr>\n      <th>2</th>\n      <td>#AndroidDevChallenge - Helpful innovation, pow...</td>\n      <td>0</td>\n      <td>22/06/2020</td>\n      <td>5779436</td>\n      <td>436</td>\n    </tr>\n    <tr>\n      <th>3</th>\n      <td>#Data Science SQL Full Outer join Keyword | Ek...</td>\n      <td>0</td>\n      <td>28/08/2021</td>\n      <td>1</td>\n      <td>4</td>\n    </tr>\n    <tr>\n      <th>4</th>\n      <td>#Data Science SQL Left join Keyword | Ekasclou...</td>\n      <td>0</td>\n      <td>28/08/2021</td>\n      <td>0</td>\n      <td>4</td>\n    </tr>\n  </tbody>\n</table>\n</div>"
     },
     "execution_count": 2,
     "metadata": {},
     "output_type": "execute_result"
    }
   ]
  },
  {
   "cell_type": "code",
   "execution_count": 3,
   "outputs": [
    {
     "data": {
      "text/plain": "0.0"
     },
     "execution_count": 3,
     "metadata": {},
     "output_type": "execute_result"
    }
   ],
   "source": [
    "df.duplicated().mean()"
   ],
   "metadata": {
    "collapsed": false,
    "pycharm": {
     "name": "#%%\n"
    }
   }
  },
  {
   "cell_type": "code",
   "execution_count": 4,
   "outputs": [
    {
     "data": {
      "text/plain": "0.0"
     },
     "execution_count": 4,
     "metadata": {},
     "output_type": "execute_result"
    }
   ],
   "source": [
    "df.duplicated(['title']).mean()"
   ],
   "metadata": {
    "collapsed": false,
    "pycharm": {
     "name": "#%%\n"
    }
   }
  },
  {
   "cell_type": "code",
   "execution_count": 5,
   "outputs": [
    {
     "data": {
      "text/plain": "(1182, 5)"
     },
     "execution_count": 5,
     "metadata": {},
     "output_type": "execute_result"
    }
   ],
   "source": [
    "df.shape"
   ],
   "metadata": {
    "collapsed": false,
    "pycharm": {
     "name": "#%%\n"
    }
   }
  },
  {
   "cell_type": "code",
   "execution_count": 6,
   "outputs": [
    {
     "data": {
      "text/plain": "                                               title  y upload_date  \\\n0      \"Kaggle: command not found fix\" for Mac Users  0  30/11/2020   \n1  #1 - Data Science na PrÃ¡tica - Conhecendo o K...  0  03/08/2020   \n2  #AndroidDevChallenge - Helpful innovation, pow...  0  22/06/2020   \n3  #Data Science SQL Full Outer join Keyword | Ek...  0  28/08/2021   \n4  #Data Science SQL Left join Keyword | Ekasclou...  0  28/08/2021   \n\n   view_count  view_per_day  \n0         216        0.7855  \n1         808        2.0508  \n2     5779436    13255.5872  \n3           1        0.2500  \n4           0        0.0000  ",
      "text/html": "<div>\n<style scoped>\n    .dataframe tbody tr th:only-of-type {\n        vertical-align: middle;\n    }\n\n    .dataframe tbody tr th {\n        vertical-align: top;\n    }\n\n    .dataframe thead th {\n        text-align: right;\n    }\n</style>\n<table border=\"1\" class=\"dataframe\">\n  <thead>\n    <tr style=\"text-align: right;\">\n      <th></th>\n      <th>title</th>\n      <th>y</th>\n      <th>upload_date</th>\n      <th>view_count</th>\n      <th>view_per_day</th>\n    </tr>\n  </thead>\n  <tbody>\n    <tr>\n      <th>0</th>\n      <td>\"Kaggle: command not found fix\" for Mac Users</td>\n      <td>0</td>\n      <td>30/11/2020</td>\n      <td>216</td>\n      <td>0.7855</td>\n    </tr>\n    <tr>\n      <th>1</th>\n      <td>#1 - Data Science na PrÃ¡tica - Conhecendo o K...</td>\n      <td>0</td>\n      <td>03/08/2020</td>\n      <td>808</td>\n      <td>2.0508</td>\n    </tr>\n    <tr>\n      <th>2</th>\n      <td>#AndroidDevChallenge - Helpful innovation, pow...</td>\n      <td>0</td>\n      <td>22/06/2020</td>\n      <td>5779436</td>\n      <td>13255.5872</td>\n    </tr>\n    <tr>\n      <th>3</th>\n      <td>#Data Science SQL Full Outer join Keyword | Ek...</td>\n      <td>0</td>\n      <td>28/08/2021</td>\n      <td>1</td>\n      <td>0.2500</td>\n    </tr>\n    <tr>\n      <th>4</th>\n      <td>#Data Science SQL Left join Keyword | Ekasclou...</td>\n      <td>0</td>\n      <td>28/08/2021</td>\n      <td>0</td>\n      <td>0.0000</td>\n    </tr>\n  </tbody>\n</table>\n</div>"
     },
     "execution_count": 6,
     "metadata": {},
     "output_type": "execute_result"
    }
   ],
   "source": [
    "df['view_per_day'] = round(df['view_count'] / df['tempo_desde_pub'], 4)\n",
    "df = df.drop(['tempo_desde_pub'], axis=1)\n",
    "df.head()"
   ],
   "metadata": {
    "collapsed": false,
    "pycharm": {
     "name": "#%%\n"
    }
   }
  },
  {
   "cell_type": "markdown",
   "source": [
    "### Random Forest Classifier"
   ],
   "metadata": {
    "collapsed": false
   }
  },
  {
   "cell_type": "markdown",
   "source": [
    "Para esse algoritmo, testei diferentes valores para os seguintes parâmetros:\n",
    "* n_estimators\n",
    "* min_samples_leaf\n",
    "* class_weight\n",
    "* n_jobs\n",
    "\n",
    "Além de testar variações do parâmetro de ngram no TFIDF"
   ],
   "metadata": {
    "collapsed": false
   }
  },
  {
   "cell_type": "code",
   "execution_count": 7,
   "outputs": [],
   "source": [
    "X = df.copy().drop(['y', 'upload_date'], axis=1)\n",
    "y = df['y']"
   ],
   "metadata": {
    "collapsed": false,
    "pycharm": {
     "name": "#%%\n"
    }
   }
  },
  {
   "cell_type": "code",
   "execution_count": 8,
   "outputs": [
    {
     "data": {
      "text/plain": "((531, 3), (651, 3), (531,), (651,))"
     },
     "execution_count": 8,
     "metadata": {},
     "output_type": "execute_result"
    }
   ],
   "source": [
    "Xtrain, Xval, ytrain, yval = train_test_split(X, y, test_size=0.55, random_state=0)\n",
    "Xtrain.shape, Xval.shape, ytrain.shape, yval.shape"
   ],
   "metadata": {
    "collapsed": false,
    "pycharm": {
     "name": "#%%\n"
    }
   }
  },
  {
   "cell_type": "code",
   "execution_count": 9,
   "outputs": [],
   "source": [
    "title_train = Xtrain['title']\n",
    "title_val = Xval['title']\n",
    "\n",
    "#min_df = minimo de exemplos de palavra\n",
    "#ngram_range = numero de unigramas\n",
    "title_vec = TfidfVectorizer(min_df=1, ngram_range=(1,1))\n",
    "title_bow_train = title_vec.fit_transform(title_train)\n",
    "title_bow_val = title_vec.transform(title_val)"
   ],
   "metadata": {
    "collapsed": false,
    "pycharm": {
     "name": "#%%\n"
    }
   }
  },
  {
   "cell_type": "code",
   "execution_count": 10,
   "outputs": [
    {
     "data": {
      "text/plain": "((531, 1529), (651, 1529))"
     },
     "execution_count": 10,
     "metadata": {},
     "output_type": "execute_result"
    }
   ],
   "source": [
    "Xtrain_wtitle = hstack([Xtrain.drop(['title'], axis=1), title_bow_train])\n",
    "Xval_wtitle = hstack([Xval.drop(['title'], axis=1), title_bow_val])\n",
    "\n",
    "Xtrain_wtitle.shape, Xval_wtitle.shape"
   ],
   "metadata": {
    "collapsed": false,
    "pycharm": {
     "name": "#%%\n"
    }
   }
  },
  {
   "cell_type": "code",
   "execution_count": 11,
   "outputs": [
    {
     "data": {
      "text/plain": "RandomForestClassifier(class_weight='balanced', n_jobs=6, random_state=0)"
     },
     "execution_count": 11,
     "metadata": {},
     "output_type": "execute_result"
    }
   ],
   "source": [
    "mdl = RandomForestClassifier(n_estimators=100, random_state=0, min_samples_leaf=1, class_weight='balanced', n_jobs=6)\n",
    "mdl.fit(Xtrain_wtitle, ytrain)"
   ],
   "metadata": {
    "collapsed": false,
    "pycharm": {
     "name": "#%%\n"
    }
   }
  },
  {
   "cell_type": "code",
   "execution_count": 12,
   "outputs": [],
   "source": [
    "p = mdl.predict_proba(Xval_wtitle)[ : , 1]"
   ],
   "metadata": {
    "collapsed": false,
    "pycharm": {
     "name": "#%%\n"
    }
   }
  },
  {
   "cell_type": "code",
   "execution_count": 13,
   "outputs": [
    {
     "name": "stdout",
     "output_type": "stream",
     "text": [
      "precision: 0.32113680450630394 and roc: 0.7318334350213545\n"
     ]
    }
   ],
   "source": [
    "print('precision: {} and roc: {}'.format(average_precision_score(yval, p), roc_auc_score(yval, p)))"
   ],
   "metadata": {
    "collapsed": false,
    "pycharm": {
     "name": "#%%\n"
    }
   }
  },
  {
   "cell_type": "markdown",
   "source": [
    "precision: 0.32113680450630394 and roc: 0.7318334350213545 -> unigrama\n",
    "precision: 0.31808388628023254 and roc: 0.7176479560707748 -> bigrama"
   ],
   "metadata": {
    "collapsed": false,
    "pycharm": {
     "name": "#%% md\n"
    }
   }
  },
  {
   "cell_type": "markdown",
   "source": [
    "### Testando o LightGBM"
   ],
   "metadata": {
    "collapsed": false,
    "pycharm": {
     "name": "#%% md\n"
    }
   }
  },
  {
   "cell_type": "markdown",
   "source": [
    "Utilizei a função *forest_minimize* da biblioteca *skopt* para chegar nos melhores parâmetros para o modelo LGBM.\n",
    "Utilizei esse método pois ele é melhor que o GridSearch, já que este procura de forma aleatória e tenta prever o erro, para o próximo 'loop' ser melhor que o anterior."
   ],
   "metadata": {
    "collapsed": false
   }
  },
  {
   "cell_type": "code",
   "execution_count": 14,
   "outputs": [
    {
     "data": {
      "text/plain": "LGBMClassifier(class_weight='balanced', n_jobs=6, random_state=0)"
     },
     "execution_count": 14,
     "metadata": {},
     "output_type": "execute_result"
    }
   ],
   "source": [
    "mdl2 = LGBMClassifier(random_state=0, class_weight='balanced', n_jobs=6)\n",
    "mdl2.fit(Xtrain_wtitle, ytrain)"
   ],
   "metadata": {
    "collapsed": false,
    "pycharm": {
     "name": "#%%\n"
    }
   }
  },
  {
   "cell_type": "code",
   "execution_count": 15,
   "outputs": [
    {
     "name": "stderr",
     "output_type": "stream",
     "text": [
      "D:\\Arquivos de Programas\\Anaconda\\lib\\site-packages\\lightgbm\\basic.py:739: UserWarning: Converting data to scipy sparse matrix.\n",
      "  _log_warning('Converting data to scipy sparse matrix.')\n"
     ]
    }
   ],
   "source": [
    "p2 = mdl2.predict_proba(Xval_wtitle)[ : , 1]"
   ],
   "metadata": {
    "collapsed": false,
    "pycharm": {
     "name": "#%%\n"
    }
   }
  },
  {
   "cell_type": "markdown",
   "source": [
    "Métricas de avaliação sem tunning:"
   ],
   "metadata": {
    "collapsed": false
   }
  },
  {
   "cell_type": "code",
   "execution_count": 16,
   "outputs": [
    {
     "name": "stdout",
     "output_type": "stream",
     "text": [
      "precision: 0.12864127819187215 and roc: 0.5719188529591214\n"
     ]
    }
   ],
   "source": [
    "print('precision: {} and roc: {}'.format(average_precision_score(yval, p2), roc_auc_score(yval, p2)))"
   ],
   "metadata": {
    "collapsed": false,
    "pycharm": {
     "name": "#%%\n"
    }
   }
  },
  {
   "cell_type": "markdown",
   "source": [
    "Criação da função para otimização, aqui a ideia é chegar numa melhor **precisão**, mas tambem acompanhar o **ROC**"
   ],
   "metadata": {
    "collapsed": false
   }
  },
  {
   "cell_type": "code",
   "execution_count": 17,
   "outputs": [],
   "source": [
    "def tune_lgbm(params):\n",
    "    print(params)\n",
    "    lr = params[0]\n",
    "    max_depth = params[1]\n",
    "    min_child_samples = params[2]\n",
    "    subsample = params[3]\n",
    "    colsample_bytree = params[4]\n",
    "    n_estimators = params[5]\n",
    "    min_df = params[6]\n",
    "    ngram_range = (1, params[7])\n",
    "\n",
    "    title_vec = TfidfVectorizer(min_df=min_df, ngram_range=ngram_range)\n",
    "    title_bow_train = title_vec.fit_transform(title_train)\n",
    "    title_bow_val = title_vec.transform(title_val)\n",
    "\n",
    "    Xtrain_wtitle = hstack([Xtrain.drop(['title'], axis=1), title_bow_train])\n",
    "    Xval_wtitle = hstack([Xval.drop(['title'], axis=1), title_bow_val])\n",
    "\n",
    "    mdl3 = LGBMClassifier(learning_rate=lr, num_leaves=2 ** max_depth, max_depth=max_depth,\n",
    "                          min_child_samples=min_child_samples, subsample=subsample,\n",
    "                          colsample_bytree=colsample_bytree, bagging_freq=1, n_estimators=n_estimators, random_state=0,\n",
    "                          class_weight=\"balanced\", n_jobs=6)\n",
    "\n",
    "    mdl3.fit(Xtrain_wtitle, ytrain)\n",
    "\n",
    "    p = mdl3.predict_proba(Xval_wtitle)[ : , 1]\n",
    "    print(roc_auc_score(yval, p))\n",
    "\n",
    "    return -average_precision_score(yval, p)"
   ],
   "metadata": {
    "collapsed": false,
    "pycharm": {
     "name": "#%%\n"
    }
   }
  },
  {
   "cell_type": "code",
   "execution_count": 18,
   "outputs": [],
   "source": [
    "space = [(1e-3, 1e-1, 'log-uniform'), # lr\n",
    "         (1, 10),                      # max_depth\n",
    "         (1, 20),                      # min_child_samples\n",
    "         (0.05, 1.),                   # subsample\n",
    "         (0.05, 1.),                   # colsample_bytree\n",
    "         (100, 1000),                  # n_estimators\n",
    "         (1, 5),                       # mind_df\n",
    "         (1, 5)]                       # ngram_range"
   ],
   "metadata": {
    "collapsed": false,
    "pycharm": {
     "name": "#%%\n"
    }
   }
  },
  {
   "cell_type": "code",
   "execution_count": 19,
   "outputs": [
    {
     "name": "stdout",
     "output_type": "stream",
     "text": [
      "Iteration No: 1 started. Evaluating function at random point.\n",
      "[0.009944912110647982, 5, 1, 0.4677107511929402, 0.49263223036174764, 272, 3, 1]\n",
      "[LightGBM] [Warning] bagging_freq is set=1, subsample_freq=0 will be ignored. Current value: bagging_freq=1\n"
     ]
    },
    {
     "name": "stderr",
     "output_type": "stream",
     "text": [
      "D:\\Arquivos de Programas\\Anaconda\\lib\\site-packages\\lightgbm\\basic.py:739: UserWarning: Converting data to scipy sparse matrix.\n",
      "  _log_warning('Converting data to scipy sparse matrix.')\n",
      "D:\\Arquivos de Programas\\Anaconda\\lib\\site-packages\\lightgbm\\basic.py:739: UserWarning: Converting data to scipy sparse matrix.\n",
      "  _log_warning('Converting data to scipy sparse matrix.')\n"
     ]
    },
    {
     "name": "stdout",
     "output_type": "stream",
     "text": [
      "0.597895057962172\n",
      "Iteration No: 1 ended. Evaluation done at random point.\n",
      "Time taken: 0.2170\n",
      "Function value obtained: -0.1500\n",
      "Current minimum: -0.1500\n",
      "Iteration No: 2 started. Evaluating function at random point.\n",
      "[0.053887464791860025, 1, 15, 0.7437489153990157, 0.8675167974293533, 549, 3, 4]\n",
      "[LightGBM] [Warning] bagging_freq is set=1, subsample_freq=0 will be ignored. Current value: bagging_freq=1\n",
      "0.5827181208053691\n",
      "Iteration No: 2 ended. Evaluation done at random point.\n",
      "Time taken: 0.1490\n",
      "Function value obtained: -0.1089\n",
      "Current minimum: -0.1500\n",
      "Iteration No: 3 started. Evaluating function at random point.\n",
      "[0.004151454520895999, 6, 20, 0.8682075103820793, 0.9491436163200662, 411, 4, 3]\n",
      "[LightGBM] [Warning] bagging_freq is set=1, subsample_freq=0 will be ignored. Current value: bagging_freq=1\n",
      "0.5854636973764491\n",
      "Iteration No: 3 ended. Evaluation done at random point.\n",
      "Time taken: 0.1780\n",
      "Function value obtained: -0.1263\n",
      "Current minimum: -0.1500\n",
      "Iteration No: 4 started. Evaluating function at random point.\n",
      "[0.0014099928811969545, 9, 9, 0.6502182010234373, 0.6866210554187129, 828, 5, 2]\n",
      "[LightGBM] [Warning] bagging_freq is set=1, subsample_freq=0 will be ignored. Current value: bagging_freq=1\n"
     ]
    },
    {
     "name": "stderr",
     "output_type": "stream",
     "text": [
      "D:\\Arquivos de Programas\\Anaconda\\lib\\site-packages\\lightgbm\\basic.py:739: UserWarning: Converting data to scipy sparse matrix.\n",
      "  _log_warning('Converting data to scipy sparse matrix.')\n",
      "D:\\Arquivos de Programas\\Anaconda\\lib\\site-packages\\lightgbm\\basic.py:739: UserWarning: Converting data to scipy sparse matrix.\n",
      "  _log_warning('Converting data to scipy sparse matrix.')\n",
      "D:\\Arquivos de Programas\\Anaconda\\lib\\site-packages\\lightgbm\\basic.py:739: UserWarning: Converting data to scipy sparse matrix.\n",
      "  _log_warning('Converting data to scipy sparse matrix.')\n"
     ]
    },
    {
     "name": "stdout",
     "output_type": "stream",
     "text": [
      "0.5910158633312995\n",
      "Iteration No: 4 ended. Evaluation done at random point.\n",
      "Time taken: 0.4860\n",
      "Function value obtained: -0.1434\n",
      "Current minimum: -0.1500\n",
      "Iteration No: 5 started. Evaluating function at random point.\n",
      "[0.08530558241838007, 8, 19, 0.2137736299768322, 0.1313765544201984, 961, 4, 1]\n",
      "[LightGBM] [Warning] bagging_freq is set=1, subsample_freq=0 will be ignored. Current value: bagging_freq=1\n",
      "0.5801250762660158\n",
      "Iteration No: 5 ended. Evaluation done at random point.\n",
      "Time taken: 0.1510\n",
      "Function value obtained: -0.1090\n",
      "Current minimum: -0.1500\n",
      "Iteration No: 6 started. Evaluating function at random point.\n",
      "[0.003567949451535685, 10, 19, 0.7232951768944309, 0.7298538828427115, 939, 4, 3]\n",
      "[LightGBM] [Warning] bagging_freq is set=1, subsample_freq=0 will be ignored. Current value: bagging_freq=1\n"
     ]
    },
    {
     "name": "stderr",
     "output_type": "stream",
     "text": [
      "D:\\Arquivos de Programas\\Anaconda\\lib\\site-packages\\lightgbm\\basic.py:739: UserWarning: Converting data to scipy sparse matrix.\n",
      "  _log_warning('Converting data to scipy sparse matrix.')\n"
     ]
    },
    {
     "name": "stdout",
     "output_type": "stream",
     "text": [
      "0.5730475899938986\n",
      "Iteration No: 6 ended. Evaluation done at random point.\n",
      "Time taken: 0.4860\n",
      "Function value obtained: -0.1107\n",
      "Current minimum: -0.1500\n",
      "Iteration No: 7 started. Evaluating function at random point.\n",
      "[0.014828577273549474, 7, 1, 0.18428087097824575, 0.3261556557915816, 274, 1, 2]\n",
      "[LightGBM] [Warning] bagging_freq is set=1, subsample_freq=0 will be ignored. Current value: bagging_freq=1\n"
     ]
    },
    {
     "name": "stderr",
     "output_type": "stream",
     "text": [
      "D:\\Arquivos de Programas\\Anaconda\\lib\\site-packages\\lightgbm\\basic.py:739: UserWarning: Converting data to scipy sparse matrix.\n",
      "  _log_warning('Converting data to scipy sparse matrix.')\n",
      "D:\\Arquivos de Programas\\Anaconda\\lib\\site-packages\\lightgbm\\basic.py:739: UserWarning: Converting data to scipy sparse matrix.\n",
      "  _log_warning('Converting data to scipy sparse matrix.')\n"
     ]
    },
    {
     "name": "stdout",
     "output_type": "stream",
     "text": [
      "0.6007931665649785\n",
      "Iteration No: 7 ended. Evaluation done at random point.\n",
      "Time taken: 0.5090\n",
      "Function value obtained: -0.1967\n",
      "Current minimum: -0.1967\n",
      "Iteration No: 8 started. Evaluating function at random point.\n",
      "[0.0015212976972079912, 3, 12, 0.44234694306528044, 0.399351303640462, 272, 3, 5]\n",
      "[LightGBM] [Warning] bagging_freq is set=1, subsample_freq=0 will be ignored. Current value: bagging_freq=1\n",
      "0.5669310555216595\n",
      "Iteration No: 8 ended. Evaluation done at random point.\n",
      "Time taken: 0.1450\n",
      "Function value obtained: -0.1237\n",
      "Current minimum: -0.1967\n",
      "Iteration No: 9 started. Evaluating function at random point.\n",
      "[0.01946212855369041, 9, 18, 0.5235636153223084, 0.6728679300083596, 747, 4, 5]\n",
      "[LightGBM] [Warning] bagging_freq is set=1, subsample_freq=0 will be ignored. Current value: bagging_freq=1\n"
     ]
    },
    {
     "name": "stderr",
     "output_type": "stream",
     "text": [
      "D:\\Arquivos de Programas\\Anaconda\\lib\\site-packages\\lightgbm\\basic.py:739: UserWarning: Converting data to scipy sparse matrix.\n",
      "  _log_warning('Converting data to scipy sparse matrix.')\n"
     ]
    },
    {
     "name": "stdout",
     "output_type": "stream",
     "text": [
      "0.5455003050640634\n",
      "Iteration No: 9 ended. Evaluation done at random point.\n",
      "Time taken: 0.3540\n",
      "Function value obtained: -0.1006\n",
      "Current minimum: -0.1967\n",
      "Iteration No: 10 started. Evaluating function at random point.\n",
      "[0.0012116790683302117, 3, 2, 0.06616307483844217, 0.23025600705315752, 677, 2, 5]\n",
      "[LightGBM] [Warning] bagging_freq is set=1, subsample_freq=0 will be ignored. Current value: bagging_freq=1\n"
     ]
    },
    {
     "name": "stderr",
     "output_type": "stream",
     "text": [
      "D:\\Arquivos de Programas\\Anaconda\\lib\\site-packages\\lightgbm\\basic.py:739: UserWarning: Converting data to scipy sparse matrix.\n",
      "  _log_warning('Converting data to scipy sparse matrix.')\n"
     ]
    },
    {
     "name": "stdout",
     "output_type": "stream",
     "text": [
      "0.5403904820012203\n",
      "Iteration No: 10 ended. Evaluation done at random point.\n",
      "Time taken: 0.4920\n",
      "Function value obtained: -0.1249\n",
      "Current minimum: -0.1967\n",
      "Iteration No: 11 started. Evaluating function at random point.\n",
      "[0.0053139776214487944, 6, 9, 0.14251441334450304, 0.8175761405215897, 297, 1, 5]\n",
      "[LightGBM] [Warning] bagging_freq is set=1, subsample_freq=0 will be ignored. Current value: bagging_freq=1\n"
     ]
    },
    {
     "name": "stderr",
     "output_type": "stream",
     "text": [
      "D:\\Arquivos de Programas\\Anaconda\\lib\\site-packages\\lightgbm\\basic.py:739: UserWarning: Converting data to scipy sparse matrix.\n",
      "  _log_warning('Converting data to scipy sparse matrix.')\n"
     ]
    },
    {
     "name": "stdout",
     "output_type": "stream",
     "text": [
      "0.5386058572300183\n",
      "Iteration No: 11 ended. Evaluation done at random point.\n",
      "Time taken: 0.2170\n",
      "Function value obtained: -0.1411\n",
      "Current minimum: -0.1967\n",
      "Iteration No: 12 started. Evaluating function at random point.\n",
      "[0.0068572961982704935, 10, 5, 0.2390386584472456, 0.49053406102209746, 176, 2, 4]\n",
      "[LightGBM] [Warning] bagging_freq is set=1, subsample_freq=0 will be ignored. Current value: bagging_freq=1\n"
     ]
    },
    {
     "name": "stderr",
     "output_type": "stream",
     "text": [
      "D:\\Arquivos de Programas\\Anaconda\\lib\\site-packages\\lightgbm\\basic.py:739: UserWarning: Converting data to scipy sparse matrix.\n",
      "  _log_warning('Converting data to scipy sparse matrix.')\n"
     ]
    },
    {
     "name": "stdout",
     "output_type": "stream",
     "text": [
      "0.5906040268456375\n",
      "Iteration No: 12 ended. Evaluation done at random point.\n",
      "Time taken: 0.2540\n",
      "Function value obtained: -0.1246\n",
      "Current minimum: -0.1967\n",
      "Iteration No: 13 started. Evaluating function at random point.\n",
      "[0.00781968225875022, 3, 4, 0.7078936710077383, 0.31818755505678337, 275, 4, 4]\n",
      "[LightGBM] [Warning] bagging_freq is set=1, subsample_freq=0 will be ignored. Current value: bagging_freq=1\n"
     ]
    },
    {
     "name": "stderr",
     "output_type": "stream",
     "text": [
      "D:\\Arquivos de Programas\\Anaconda\\lib\\site-packages\\lightgbm\\basic.py:739: UserWarning: Converting data to scipy sparse matrix.\n",
      "  _log_warning('Converting data to scipy sparse matrix.')\n",
      "D:\\Arquivos de Programas\\Anaconda\\lib\\site-packages\\lightgbm\\basic.py:739: UserWarning: Converting data to scipy sparse matrix.\n",
      "  _log_warning('Converting data to scipy sparse matrix.')\n"
     ]
    },
    {
     "name": "stdout",
     "output_type": "stream",
     "text": [
      "0.622071384990848\n",
      "Iteration No: 13 ended. Evaluation done at random point.\n",
      "Time taken: 0.1990\n",
      "Function value obtained: -0.1733\n",
      "Current minimum: -0.1967\n",
      "Iteration No: 14 started. Evaluating function at random point.\n",
      "[0.017293945600511968, 2, 15, 0.9007557574888567, 0.41026441194439994, 316, 5, 1]\n",
      "[LightGBM] [Warning] bagging_freq is set=1, subsample_freq=0 will be ignored. Current value: bagging_freq=1\n",
      "0.5585723001830385\n",
      "Iteration No: 14 ended. Evaluation done at random point.\n",
      "Time taken: 0.1270\n",
      "Function value obtained: -0.1200\n",
      "Current minimum: -0.1967\n",
      "Iteration No: 15 started. Evaluating function at random point.\n",
      "[0.012250750764764855, 8, 6, 0.5976582413192033, 0.2474882432951916, 516, 4, 4]\n",
      "[LightGBM] [Warning] bagging_freq is set=1, subsample_freq=0 will be ignored. Current value: bagging_freq=1"
     ]
    },
    {
     "name": "stderr",
     "output_type": "stream",
     "text": [
      "D:\\Arquivos de Programas\\Anaconda\\lib\\site-packages\\lightgbm\\basic.py:739: UserWarning: Converting data to scipy sparse matrix.\n",
      "  _log_warning('Converting data to scipy sparse matrix.')\n",
      "D:\\Arquivos de Programas\\Anaconda\\lib\\site-packages\\lightgbm\\basic.py:739: UserWarning: Converting data to scipy sparse matrix.\n",
      "  _log_warning('Converting data to scipy sparse matrix.')\n"
     ]
    },
    {
     "name": "stdout",
     "output_type": "stream",
     "text": [
      "\n",
      "0.6170988407565589\n",
      "Iteration No: 15 ended. Evaluation done at random point.\n",
      "Time taken: 0.3870\n",
      "Function value obtained: -0.1797\n",
      "Current minimum: -0.1967\n",
      "Iteration No: 16 started. Evaluating function at random point.\n",
      "[0.018353598126553926, 4, 3, 0.47305622526323254, 0.1404164811277527, 133, 4, 1]\n",
      "[LightGBM] [Warning] bagging_freq is set=1, subsample_freq=0 will be ignored. Current value: bagging_freq=1\n",
      "0.6087400854179378\n",
      "Iteration No: 16 ended. Evaluation done at random point.\n",
      "Time taken: 0.0970\n",
      "Function value obtained: -0.1561\n",
      "Current minimum: -0.1967\n",
      "Iteration No: 17 started. Evaluating function at random point.\n",
      "[0.0010383234748454694, 9, 19, 0.9256771571832196, 0.9321438677645206, 312, 4, 3]\n",
      "[LightGBM] [Warning] bagging_freq is set=1, subsample_freq=0 will be ignored. Current value: bagging_freq=1\n"
     ]
    },
    {
     "name": "stderr",
     "output_type": "stream",
     "text": [
      "D:\\Arquivos de Programas\\Anaconda\\lib\\site-packages\\lightgbm\\basic.py:739: UserWarning: Converting data to scipy sparse matrix.\n",
      "  _log_warning('Converting data to scipy sparse matrix.')\n"
     ]
    },
    {
     "name": "stdout",
     "output_type": "stream",
     "text": [
      "0.5762202562538133\n",
      "Iteration No: 17 ended. Evaluation done at random point.\n",
      "Time taken: 0.2480\n",
      "Function value obtained: -0.1264\n",
      "Current minimum: -0.1967\n",
      "Iteration No: 18 started. Evaluating function at random point.\n",
      "[0.004955229758078229, 5, 5, 0.06939551310802591, 0.4193273080472823, 725, 4, 1]\n",
      "[LightGBM] [Warning] bagging_freq is set=1, subsample_freq=0 will be ignored. Current value: bagging_freq=1\n"
     ]
    },
    {
     "name": "stderr",
     "output_type": "stream",
     "text": [
      "D:\\Arquivos de Programas\\Anaconda\\lib\\site-packages\\lightgbm\\basic.py:739: UserWarning: Converting data to scipy sparse matrix.\n",
      "  _log_warning('Converting data to scipy sparse matrix.')\n"
     ]
    },
    {
     "name": "stdout",
     "output_type": "stream",
     "text": [
      "0.5303386211104333\n",
      "Iteration No: 18 ended. Evaluation done at random point.\n",
      "Time taken: 0.2540\n",
      "Function value obtained: -0.1153\n",
      "Current minimum: -0.1967\n",
      "Iteration No: 19 started. Evaluating function at random point.\n",
      "[0.0699516121742407, 9, 10, 0.6477856515609233, 0.8594430701440198, 616, 1, 1]\n",
      "[LightGBM] [Warning] bagging_freq is set=1, subsample_freq=0 will be ignored. Current value: bagging_freq=1\n"
     ]
    },
    {
     "name": "stderr",
     "output_type": "stream",
     "text": [
      "D:\\Arquivos de Programas\\Anaconda\\lib\\site-packages\\lightgbm\\basic.py:739: UserWarning: Converting data to scipy sparse matrix.\n",
      "  _log_warning('Converting data to scipy sparse matrix.')\n"
     ]
    },
    {
     "name": "stdout",
     "output_type": "stream",
     "text": [
      "0.5839993898718732\n",
      "Iteration No: 19 ended. Evaluation done at random point.\n",
      "Time taken: 0.5030\n",
      "Function value obtained: -0.1316\n",
      "Current minimum: -0.1967\n",
      "Iteration No: 20 started. Evaluating function at random point.\n",
      "[0.0014752743467850462, 5, 4, 0.9747950537021096, 0.982207187458162, 909, 2, 4]\n",
      "[LightGBM] [Warning] bagging_freq is set=1, subsample_freq=0 will be ignored. Current value: bagging_freq=1\n"
     ]
    },
    {
     "name": "stderr",
     "output_type": "stream",
     "text": [
      "D:\\Arquivos de Programas\\Anaconda\\lib\\site-packages\\lightgbm\\basic.py:739: UserWarning: Converting data to scipy sparse matrix.\n",
      "  _log_warning('Converting data to scipy sparse matrix.')\n"
     ]
    },
    {
     "name": "stdout",
     "output_type": "stream",
     "text": [
      "0.5874618669920683\n",
      "Iteration No: 20 ended. Evaluation done at random point.\n",
      "Time taken: 0.8340\n",
      "Function value obtained: -0.1760\n",
      "Current minimum: -0.1967\n",
      "Iteration No: 21 started. Searching for the next optimal point.\n",
      "[0.019080846842779074, 7, 2, 0.24361348759218493, 0.18723153144935162, 639, 3, 2]\n",
      "[LightGBM] [Warning] bagging_freq is set=1, subsample_freq=0 will be ignored. Current value: bagging_freq=1\n"
     ]
    },
    {
     "name": "stderr",
     "output_type": "stream",
     "text": [
      "D:\\Arquivos de Programas\\Anaconda\\lib\\site-packages\\lightgbm\\basic.py:739: UserWarning: Converting data to scipy sparse matrix.\n",
      "  _log_warning('Converting data to scipy sparse matrix.')\n"
     ]
    },
    {
     "name": "stdout",
     "output_type": "stream",
     "text": [
      "0.6054301403294692\n",
      "Iteration No: 21 ended. Search finished for the next optimal point.\n",
      "Time taken: 0.8560\n",
      "Function value obtained: -0.1217\n",
      "Current minimum: -0.1967\n",
      "Iteration No: 22 started. Searching for the next optimal point.\n",
      "[0.02187172241925626, 5, 3, 0.25463815869386314, 0.2730630100788364, 147, 1, 2]\n",
      "[LightGBM] [Warning] bagging_freq is set=1, subsample_freq=0 will be ignored. Current value: bagging_freq=1\n",
      "0.6139261744966442\n"
     ]
    },
    {
     "name": "stderr",
     "output_type": "stream",
     "text": [
      "D:\\Arquivos de Programas\\Anaconda\\lib\\site-packages\\lightgbm\\basic.py:739: UserWarning: Converting data to scipy sparse matrix.\n",
      "  _log_warning('Converting data to scipy sparse matrix.')\n"
     ]
    },
    {
     "name": "stdout",
     "output_type": "stream",
     "text": [
      "Iteration No: 22 ended. Search finished for the next optimal point.\n",
      "Time taken: 0.4290\n",
      "Function value obtained: -0.2285\n",
      "Current minimum: -0.2285\n",
      "Iteration No: 23 started. Searching for the next optimal point.\n",
      "[0.020350398200048143, 7, 3, 0.22668831845228354, 0.10249107402007007, 216, 1, 1]\n",
      "[LightGBM] [Warning] bagging_freq is set=1, subsample_freq=0 will be ignored. Current value: bagging_freq=1\n",
      "0.6106467358145211\n"
     ]
    },
    {
     "name": "stderr",
     "output_type": "stream",
     "text": [
      "D:\\Arquivos de Programas\\Anaconda\\lib\\site-packages\\lightgbm\\basic.py:739: UserWarning: Converting data to scipy sparse matrix.\n",
      "  _log_warning('Converting data to scipy sparse matrix.')\n"
     ]
    },
    {
     "name": "stdout",
     "output_type": "stream",
     "text": [
      "Iteration No: 23 ended. Search finished for the next optimal point.\n",
      "Time taken: 0.3790\n",
      "Function value obtained: -0.1314\n",
      "Current minimum: -0.2285\n",
      "Iteration No: 24 started. Searching for the next optimal point.\n",
      "[0.09948376949984697, 3, 3, 0.9083810130858175, 0.09074174239538503, 191, 1, 2]\n",
      "[LightGBM] [Warning] bagging_freq is set=1, subsample_freq=0 will be ignored. Current value: bagging_freq=1\n",
      "0.6703782794386821\n"
     ]
    },
    {
     "name": "stderr",
     "output_type": "stream",
     "text": [
      "D:\\Arquivos de Programas\\Anaconda\\lib\\site-packages\\lightgbm\\basic.py:739: UserWarning: Converting data to scipy sparse matrix.\n",
      "  _log_warning('Converting data to scipy sparse matrix.')\n"
     ]
    },
    {
     "name": "stdout",
     "output_type": "stream",
     "text": [
      "Iteration No: 24 ended. Search finished for the next optimal point.\n",
      "Time taken: 0.3830\n",
      "Function value obtained: -0.2585\n",
      "Current minimum: -0.2585\n",
      "Iteration No: 25 started. Searching for the next optimal point.\n",
      "[0.048834605040452984, 4, 1, 0.919152527076462, 0.1813037074818199, 154, 1, 5]\n",
      "[LightGBM] [Warning] bagging_freq is set=1, subsample_freq=0 will be ignored. Current value: bagging_freq=1\n"
     ]
    },
    {
     "name": "stderr",
     "output_type": "stream",
     "text": [
      "D:\\Arquivos de Programas\\Anaconda\\lib\\site-packages\\lightgbm\\basic.py:739: UserWarning: Converting data to scipy sparse matrix.\n",
      "  _log_warning('Converting data to scipy sparse matrix.')\n"
     ]
    },
    {
     "name": "stdout",
     "output_type": "stream",
     "text": [
      "0.6300183038438072\n",
      "Iteration No: 25 ended. Search finished for the next optimal point.\n",
      "Time taken: 0.7700\n",
      "Function value obtained: -0.1931\n",
      "Current minimum: -0.2585\n",
      "Iteration No: 26 started. Searching for the next optimal point.\n",
      "[0.012660828507962848, 3, 3, 0.8300916811920659, 0.14336214642387474, 170, 1, 1]\n",
      "[LightGBM] [Warning] bagging_freq is set=1, subsample_freq=0 will be ignored. Current value: bagging_freq=1\n",
      "0.6506558877364247\n"
     ]
    },
    {
     "name": "stderr",
     "output_type": "stream",
     "text": [
      "D:\\Arquivos de Programas\\Anaconda\\lib\\site-packages\\lightgbm\\basic.py:739: UserWarning: Converting data to scipy sparse matrix.\n",
      "  _log_warning('Converting data to scipy sparse matrix.')\n"
     ]
    },
    {
     "name": "stdout",
     "output_type": "stream",
     "text": [
      "Iteration No: 26 ended. Search finished for the next optimal point.\n",
      "Time taken: 0.3270\n",
      "Function value obtained: -0.2089\n",
      "Current minimum: -0.2585\n",
      "Iteration No: 27 started. Searching for the next optimal point.\n",
      "[0.01992595624442714, 1, 1, 0.9383722939438743, 0.48040573464995723, 145, 1, 3]\n",
      "[LightGBM] [Warning] bagging_freq is set=1, subsample_freq=0 will be ignored. Current value: bagging_freq=1\n"
     ]
    },
    {
     "name": "stderr",
     "output_type": "stream",
     "text": [
      "D:\\Arquivos de Programas\\Anaconda\\lib\\site-packages\\lightgbm\\basic.py:739: UserWarning: Converting data to scipy sparse matrix.\n",
      "  _log_warning('Converting data to scipy sparse matrix.')\n"
     ]
    },
    {
     "name": "stdout",
     "output_type": "stream",
     "text": [
      "0.6237339841366687\n",
      "Iteration No: 27 ended. Search finished for the next optimal point.\n",
      "Time taken: 0.5220\n",
      "Function value obtained: -0.1926\n",
      "Current minimum: -0.2585\n",
      "Iteration No: 28 started. Searching for the next optimal point.\n",
      "[0.0033639030162318827, 1, 7, 0.7491693078746711, 0.08815518723443469, 145, 1, 2]\n",
      "[LightGBM] [Warning] bagging_freq is set=1, subsample_freq=0 will be ignored. Current value: bagging_freq=1\n",
      "0.5857992678462477\n"
     ]
    },
    {
     "name": "stderr",
     "output_type": "stream",
     "text": [
      "D:\\Arquivos de Programas\\Anaconda\\lib\\site-packages\\lightgbm\\basic.py:739: UserWarning: Converting data to scipy sparse matrix.\n",
      "  _log_warning('Converting data to scipy sparse matrix.')\n"
     ]
    },
    {
     "name": "stdout",
     "output_type": "stream",
     "text": [
      "Iteration No: 28 ended. Search finished for the next optimal point.\n",
      "Time taken: 0.3490\n",
      "Function value obtained: -0.1598\n",
      "Current minimum: -0.2585\n",
      "Iteration No: 29 started. Searching for the next optimal point.\n",
      "[0.06642164430244973, 3, 3, 0.9675145318709999, 0.11998068106918362, 231, 1, 1]\n",
      "[LightGBM] [Warning] bagging_freq is set=1, subsample_freq=0 will be ignored. Current value: bagging_freq=1\n",
      "0.6711714460036609\n"
     ]
    },
    {
     "name": "stderr",
     "output_type": "stream",
     "text": [
      "D:\\Arquivos de Programas\\Anaconda\\lib\\site-packages\\lightgbm\\basic.py:739: UserWarning: Converting data to scipy sparse matrix.\n",
      "  _log_warning('Converting data to scipy sparse matrix.')\n"
     ]
    },
    {
     "name": "stdout",
     "output_type": "stream",
     "text": [
      "Iteration No: 29 ended. Search finished for the next optimal point.\n",
      "Time taken: 0.3870\n",
      "Function value obtained: -0.2181\n",
      "Current minimum: -0.2585\n",
      "Iteration No: 30 started. Searching for the next optimal point.\n",
      "[0.04891839940989368, 3, 1, 0.8271286677847324, 0.17635860948488918, 276, 1, 2]\n",
      "[LightGBM] [Warning] bagging_freq is set=1, subsample_freq=0 will be ignored. Current value: bagging_freq=1\n"
     ]
    },
    {
     "name": "stderr",
     "output_type": "stream",
     "text": [
      "D:\\Arquivos de Programas\\Anaconda\\lib\\site-packages\\lightgbm\\basic.py:739: UserWarning: Converting data to scipy sparse matrix.\n",
      "  _log_warning('Converting data to scipy sparse matrix.')\n"
     ]
    },
    {
     "name": "stdout",
     "output_type": "stream",
     "text": [
      "0.6712782184258694\n",
      "Iteration No: 30 ended. Search finished for the next optimal point.\n",
      "Time taken: 0.5850\n",
      "Function value obtained: -0.2701\n",
      "Current minimum: -0.2701\n",
      "Iteration No: 31 started. Searching for the next optimal point.\n",
      "[0.09219929578148572, 2, 3, 0.6434385231905073, 0.07792081575341589, 929, 1, 2]\n",
      "[LightGBM] [Warning] bagging_freq is set=1, subsample_freq=0 will be ignored. Current value: bagging_freq=1\n"
     ]
    },
    {
     "name": "stderr",
     "output_type": "stream",
     "text": [
      "D:\\Arquivos de Programas\\Anaconda\\lib\\site-packages\\lightgbm\\basic.py:739: UserWarning: Converting data to scipy sparse matrix.\n",
      "  _log_warning('Converting data to scipy sparse matrix.')\n"
     ]
    },
    {
     "name": "stdout",
     "output_type": "stream",
     "text": [
      "0.666275167785235\n",
      "Iteration No: 31 ended. Search finished for the next optimal point.\n",
      "Time taken: 0.6830\n",
      "Function value obtained: -0.2446\n",
      "Current minimum: -0.2701\n",
      "Iteration No: 32 started. Searching for the next optimal point.\n",
      "[0.07315900983060428, 1, 3, 0.16205291426125756, 0.2152328492817463, 803, 1, 2]\n",
      "[LightGBM] [Warning] bagging_freq is set=1, subsample_freq=0 will be ignored. Current value: bagging_freq=1\n"
     ]
    },
    {
     "name": "stderr",
     "output_type": "stream",
     "text": [
      "D:\\Arquivos de Programas\\Anaconda\\lib\\site-packages\\lightgbm\\basic.py:739: UserWarning: Converting data to scipy sparse matrix.\n",
      "  _log_warning('Converting data to scipy sparse matrix.')\n"
     ]
    },
    {
     "name": "stdout",
     "output_type": "stream",
     "text": [
      "0.613987187309335\n",
      "Iteration No: 32 ended. Search finished for the next optimal point.\n",
      "Time taken: 0.7160\n",
      "Function value obtained: -0.2056\n",
      "Current minimum: -0.2701\n",
      "Iteration No: 33 started. Searching for the next optimal point.\n",
      "[0.0941113514658276, 2, 2, 0.5877754854295536, 0.06190710953011873, 470, 1, 3]\n",
      "[LightGBM] [Warning] bagging_freq is set=1, subsample_freq=0 will be ignored. Current value: bagging_freq=1\n"
     ]
    },
    {
     "name": "stderr",
     "output_type": "stream",
     "text": [
      "D:\\Arquivos de Programas\\Anaconda\\lib\\site-packages\\lightgbm\\basic.py:739: UserWarning: Converting data to scipy sparse matrix.\n",
      "  _log_warning('Converting data to scipy sparse matrix.')\n"
     ]
    },
    {
     "name": "stdout",
     "output_type": "stream",
     "text": [
      "0.6426937156802928\n",
      "Iteration No: 33 ended. Search finished for the next optimal point.\n",
      "Time taken: 0.5790\n",
      "Function value obtained: -0.2383\n",
      "Current minimum: -0.2701\n",
      "Iteration No: 34 started. Searching for the next optimal point.\n",
      "[0.0935864303514451, 1, 4, 0.7322955071643373, 0.08105859121438219, 708, 1, 5]\n",
      "[LightGBM] [Warning] bagging_freq is set=1, subsample_freq=0 will be ignored. Current value: bagging_freq=1\n"
     ]
    },
    {
     "name": "stderr",
     "output_type": "stream",
     "text": [
      "D:\\Arquivos de Programas\\Anaconda\\lib\\site-packages\\lightgbm\\basic.py:739: UserWarning: Converting data to scipy sparse matrix.\n",
      "  _log_warning('Converting data to scipy sparse matrix.')\n"
     ]
    },
    {
     "name": "stdout",
     "output_type": "stream",
     "text": [
      "0.6115771812080537\n",
      "Iteration No: 34 ended. Search finished for the next optimal point.\n",
      "Time taken: 0.6070\n",
      "Function value obtained: -0.1958\n",
      "Current minimum: -0.2701\n",
      "Iteration No: 35 started. Searching for the next optimal point.\n",
      "[0.06188857443309315, 3, 7, 0.43163319966004976, 0.056421455460231904, 306, 1, 2]\n",
      "[LightGBM] [Warning] bagging_freq is set=1, subsample_freq=0 will be ignored. Current value: bagging_freq=1\n",
      "0.6426632092739475\n"
     ]
    },
    {
     "name": "stderr",
     "output_type": "stream",
     "text": [
      "D:\\Arquivos de Programas\\Anaconda\\lib\\site-packages\\lightgbm\\basic.py:739: UserWarning: Converting data to scipy sparse matrix.\n",
      "  _log_warning('Converting data to scipy sparse matrix.')\n"
     ]
    },
    {
     "name": "stdout",
     "output_type": "stream",
     "text": [
      "Iteration No: 35 ended. Search finished for the next optimal point.\n",
      "Time taken: 0.4140\n",
      "Function value obtained: -0.1983\n",
      "Current minimum: -0.2701\n",
      "Iteration No: 36 started. Searching for the next optimal point.\n",
      "[0.046989668440193394, 3, 3, 0.7682792724858065, 0.7840789886861175, 335, 1, 1]\n",
      "[LightGBM] [Warning] bagging_freq is set=1, subsample_freq=0 will be ignored. Current value: bagging_freq=1\n",
      "0.6552776082977426\n"
     ]
    },
    {
     "name": "stderr",
     "output_type": "stream",
     "text": [
      "D:\\Arquivos de Programas\\Anaconda\\lib\\site-packages\\lightgbm\\basic.py:739: UserWarning: Converting data to scipy sparse matrix.\n",
      "  _log_warning('Converting data to scipy sparse matrix.')\n"
     ]
    },
    {
     "name": "stdout",
     "output_type": "stream",
     "text": [
      "Iteration No: 36 ended. Search finished for the next optimal point.\n",
      "Time taken: 0.3960\n",
      "Function value obtained: -0.2168\n",
      "Current minimum: -0.2701\n",
      "Iteration No: 37 started. Searching for the next optimal point.\n",
      "[0.04596727111921882, 4, 1, 0.8185931394848268, 0.7050686772127213, 490, 1, 2]\n",
      "[LightGBM] [Warning] bagging_freq is set=1, subsample_freq=0 will be ignored. Current value: bagging_freq=1\n"
     ]
    },
    {
     "name": "stderr",
     "output_type": "stream",
     "text": [
      "D:\\Arquivos de Programas\\Anaconda\\lib\\site-packages\\lightgbm\\basic.py:739: UserWarning: Converting data to scipy sparse matrix.\n",
      "  _log_warning('Converting data to scipy sparse matrix.')\n"
     ]
    },
    {
     "name": "stdout",
     "output_type": "stream",
     "text": [
      "0.6666107382550335\n",
      "Iteration No: 37 ended. Search finished for the next optimal point.\n",
      "Time taken: 0.8570\n",
      "Function value obtained: -0.2616\n",
      "Current minimum: -0.2701\n",
      "Iteration No: 38 started. Searching for the next optimal point.\n",
      "[0.037432277375474984, 5, 2, 0.7672833446719736, 0.9202343393807229, 563, 1, 2]\n",
      "[LightGBM] [Warning] bagging_freq is set=1, subsample_freq=0 will be ignored. Current value: bagging_freq=1\n"
     ]
    },
    {
     "name": "stderr",
     "output_type": "stream",
     "text": [
      "D:\\Arquivos de Programas\\Anaconda\\lib\\site-packages\\lightgbm\\basic.py:739: UserWarning: Converting data to scipy sparse matrix.\n",
      "  _log_warning('Converting data to scipy sparse matrix.')\n"
     ]
    },
    {
     "name": "stdout",
     "output_type": "stream",
     "text": [
      "0.6398413666870043\n",
      "Iteration No: 38 ended. Search finished for the next optimal point.\n",
      "Time taken: 0.6520\n",
      "Function value obtained: -0.2183\n",
      "Current minimum: -0.2701\n",
      "Iteration No: 39 started. Searching for the next optimal point.\n",
      "[0.08026074047975379, 6, 2, 0.7119670853373242, 0.7032695818317162, 627, 1, 2]\n",
      "[LightGBM] [Warning] bagging_freq is set=1, subsample_freq=0 will be ignored. Current value: bagging_freq=1\n"
     ]
    },
    {
     "name": "stderr",
     "output_type": "stream",
     "text": [
      "D:\\Arquivos de Programas\\Anaconda\\lib\\site-packages\\lightgbm\\basic.py:739: UserWarning: Converting data to scipy sparse matrix.\n",
      "  _log_warning('Converting data to scipy sparse matrix.')\n"
     ]
    },
    {
     "name": "stdout",
     "output_type": "stream",
     "text": [
      "0.6478035387431361\n",
      "Iteration No: 39 ended. Search finished for the next optimal point.\n",
      "Time taken: 0.7960\n",
      "Function value obtained: -0.2064\n",
      "Current minimum: -0.2701\n",
      "Iteration No: 40 started. Searching for the next optimal point.\n",
      "[0.05164083955865311, 6, 1, 0.7985203185821215, 0.7894672538682616, 227, 1, 2]\n",
      "[LightGBM] [Warning] bagging_freq is set=1, subsample_freq=0 will be ignored. Current value: bagging_freq=1\n"
     ]
    },
    {
     "name": "stderr",
     "output_type": "stream",
     "text": [
      "D:\\Arquivos de Programas\\Anaconda\\lib\\site-packages\\lightgbm\\basic.py:739: UserWarning: Converting data to scipy sparse matrix.\n",
      "  _log_warning('Converting data to scipy sparse matrix.')\n"
     ]
    },
    {
     "name": "stdout",
     "output_type": "stream",
     "text": [
      "0.6359365466748016\n",
      "Iteration No: 40 ended. Search finished for the next optimal point.\n",
      "Time taken: 0.9300\n",
      "Function value obtained: -0.2211\n",
      "Current minimum: -0.2701\n",
      "Iteration No: 41 started. Searching for the next optimal point.\n",
      "[0.03803018682323388, 3, 1, 0.8687986333663504, 0.4794490742756456, 582, 1, 2]\n",
      "[LightGBM] [Warning] bagging_freq is set=1, subsample_freq=0 will be ignored. Current value: bagging_freq=1\n"
     ]
    },
    {
     "name": "stderr",
     "output_type": "stream",
     "text": [
      "D:\\Arquivos de Programas\\Anaconda\\lib\\site-packages\\lightgbm\\basic.py:739: UserWarning: Converting data to scipy sparse matrix.\n",
      "  _log_warning('Converting data to scipy sparse matrix.')\n"
     ]
    },
    {
     "name": "stdout",
     "output_type": "stream",
     "text": [
      "0.6739932885906039\n",
      "Iteration No: 41 ended. Search finished for the next optimal point.\n",
      "Time taken: 0.9560\n",
      "Function value obtained: -0.2785\n",
      "Current minimum: -0.2785\n",
      "Iteration No: 42 started. Searching for the next optimal point.\n",
      "[0.011842471741587635, 3, 1, 0.7084918731147317, 0.3676051143236056, 877, 1, 2]\n",
      "[LightGBM] [Warning] bagging_freq is set=1, subsample_freq=0 will be ignored. Current value: bagging_freq=1\n"
     ]
    },
    {
     "name": "stderr",
     "output_type": "stream",
     "text": [
      "D:\\Arquivos de Programas\\Anaconda\\lib\\site-packages\\lightgbm\\basic.py:739: UserWarning: Converting data to scipy sparse matrix.\n",
      "  _log_warning('Converting data to scipy sparse matrix.')\n"
     ]
    },
    {
     "name": "stdout",
     "output_type": "stream",
     "text": [
      "0.663438071995119\n",
      "Iteration No: 42 ended. Search finished for the next optimal point.\n",
      "Time taken: 1.1890\n",
      "Function value obtained: -0.2492\n",
      "Current minimum: -0.2785\n",
      "Iteration No: 43 started. Searching for the next optimal point.\n",
      "[0.00280015953314303, 3, 1, 0.8250047423658959, 0.4462356026228884, 960, 1, 2]\n",
      "[LightGBM] [Warning] bagging_freq is set=1, subsample_freq=0 will be ignored. Current value: bagging_freq=1\n"
     ]
    },
    {
     "name": "stderr",
     "output_type": "stream",
     "text": [
      "D:\\Arquivos de Programas\\Anaconda\\lib\\site-packages\\lightgbm\\basic.py:739: UserWarning: Converting data to scipy sparse matrix.\n",
      "  _log_warning('Converting data to scipy sparse matrix.')\n"
     ]
    },
    {
     "name": "stdout",
     "output_type": "stream",
     "text": [
      "0.6414276998169616\n",
      "Iteration No: 43 ended. Search finished for the next optimal point.\n",
      "Time taken: 1.2690\n",
      "Function value obtained: -0.2337\n",
      "Current minimum: -0.2785\n",
      "Iteration No: 44 started. Searching for the next optimal point.\n",
      "[0.05251267000012717, 3, 1, 0.9160788546847641, 0.9322395138915186, 433, 2, 2]\n",
      "[LightGBM] [Warning] bagging_freq is set=1, subsample_freq=0 will be ignored. Current value: bagging_freq=1\n",
      "0.6104789505796216\n"
     ]
    },
    {
     "name": "stderr",
     "output_type": "stream",
     "text": [
      "D:\\Arquivos de Programas\\Anaconda\\lib\\site-packages\\lightgbm\\basic.py:739: UserWarning: Converting data to scipy sparse matrix.\n",
      "  _log_warning('Converting data to scipy sparse matrix.')\n"
     ]
    },
    {
     "name": "stdout",
     "output_type": "stream",
     "text": [
      "Iteration No: 44 ended. Search finished for the next optimal point.\n",
      "Time taken: 0.5290\n",
      "Function value obtained: -0.1734\n",
      "Current minimum: -0.2785\n",
      "Iteration No: 45 started. Searching for the next optimal point.\n",
      "[0.0018677972039913679, 3, 1, 0.8517798555503436, 0.44402732503065917, 276, 1, 2]\n",
      "[LightGBM] [Warning] bagging_freq is set=1, subsample_freq=0 will be ignored. Current value: bagging_freq=1\n"
     ]
    },
    {
     "name": "stderr",
     "output_type": "stream",
     "text": [
      "D:\\Arquivos de Programas\\Anaconda\\lib\\site-packages\\lightgbm\\basic.py:739: UserWarning: Converting data to scipy sparse matrix.\n",
      "  _log_warning('Converting data to scipy sparse matrix.')\n"
     ]
    },
    {
     "name": "stdout",
     "output_type": "stream",
     "text": [
      "0.6209579011592434\n",
      "Iteration No: 45 ended. Search finished for the next optimal point.\n",
      "Time taken: 0.6380\n",
      "Function value obtained: -0.2160\n",
      "Current minimum: -0.2785\n",
      "Iteration No: 46 started. Searching for the next optimal point.\n",
      "[0.06735108910949815, 3, 1, 0.312956396385669, 0.13993417219979404, 759, 1, 2]\n",
      "[LightGBM] [Warning] bagging_freq is set=1, subsample_freq=0 will be ignored. Current value: bagging_freq=1\n"
     ]
    },
    {
     "name": "stderr",
     "output_type": "stream",
     "text": [
      "D:\\Arquivos de Programas\\Anaconda\\lib\\site-packages\\lightgbm\\basic.py:739: UserWarning: Converting data to scipy sparse matrix.\n",
      "  _log_warning('Converting data to scipy sparse matrix.')\n"
     ]
    },
    {
     "name": "stdout",
     "output_type": "stream",
     "text": [
      "0.6675259304453934\n",
      "Iteration No: 46 ended. Search finished for the next optimal point.\n",
      "Time taken: 1.0420\n",
      "Function value obtained: -0.2414\n",
      "Current minimum: -0.2785\n",
      "Iteration No: 47 started. Searching for the next optimal point.\n",
      "[0.08044258969516314, 2, 1, 0.21313068252878759, 0.3305303876326218, 695, 1, 2]\n",
      "[LightGBM] [Warning] bagging_freq is set=1, subsample_freq=0 will be ignored. Current value: bagging_freq=1\n"
     ]
    },
    {
     "name": "stderr",
     "output_type": "stream",
     "text": [
      "D:\\Arquivos de Programas\\Anaconda\\lib\\site-packages\\lightgbm\\basic.py:739: UserWarning: Converting data to scipy sparse matrix.\n",
      "  _log_warning('Converting data to scipy sparse matrix.')\n"
     ]
    },
    {
     "name": "stdout",
     "output_type": "stream",
     "text": [
      "0.6564826113483831\n",
      "Iteration No: 47 ended. Search finished for the next optimal point.\n",
      "Time taken: 1.0380\n",
      "Function value obtained: -0.2146\n",
      "Current minimum: -0.2785\n",
      "Iteration No: 48 started. Searching for the next optimal point.\n",
      "[0.06252986996117567, 8, 1, 0.8554230529737475, 0.08714621525391666, 860, 1, 2]\n",
      "[LightGBM] [Warning] bagging_freq is set=1, subsample_freq=0 will be ignored. Current value: bagging_freq=1\n"
     ]
    },
    {
     "name": "stderr",
     "output_type": "stream",
     "text": [
      "D:\\Arquivos de Programas\\Anaconda\\lib\\site-packages\\lightgbm\\basic.py:739: UserWarning: Converting data to scipy sparse matrix.\n",
      "  _log_warning('Converting data to scipy sparse matrix.')\n"
     ]
    },
    {
     "name": "stdout",
     "output_type": "stream",
     "text": [
      "0.67477120195241\n",
      "Iteration No: 48 ended. Search finished for the next optimal point.\n",
      "Time taken: 1.3650\n",
      "Function value obtained: -0.2561\n",
      "Current minimum: -0.2785\n",
      "Iteration No: 49 started. Searching for the next optimal point.\n",
      "[0.07473498545892235, 9, 1, 0.8020499855076734, 0.10705426389117481, 562, 1, 2]\n",
      "[LightGBM] [Warning] bagging_freq is set=1, subsample_freq=0 will be ignored. Current value: bagging_freq=1\n"
     ]
    },
    {
     "name": "stderr",
     "output_type": "stream",
     "text": [
      "D:\\Arquivos de Programas\\Anaconda\\lib\\site-packages\\lightgbm\\basic.py:739: UserWarning: Converting data to scipy sparse matrix.\n",
      "  _log_warning('Converting data to scipy sparse matrix.')\n"
     ]
    },
    {
     "name": "stdout",
     "output_type": "stream",
     "text": [
      "0.6855399633923124\n",
      "Iteration No: 49 ended. Search finished for the next optimal point.\n",
      "Time taken: 1.4480\n",
      "Function value obtained: -0.2934\n",
      "Current minimum: -0.2934\n",
      "Iteration No: 50 started. Searching for the next optimal point.\n",
      "[0.09543054224256677, 8, 1, 0.9453999830880128, 0.26181401391730624, 589, 1, 4]\n",
      "[LightGBM] [Warning] bagging_freq is set=1, subsample_freq=0 will be ignored. Current value: bagging_freq=1\n"
     ]
    },
    {
     "name": "stderr",
     "output_type": "stream",
     "text": [
      "D:\\Arquivos de Programas\\Anaconda\\lib\\site-packages\\lightgbm\\basic.py:739: UserWarning: Converting data to scipy sparse matrix.\n",
      "  _log_warning('Converting data to scipy sparse matrix.')\n"
     ]
    },
    {
     "name": "stdout",
     "output_type": "stream",
     "text": [
      "0.6219798657718121\n",
      "Iteration No: 50 ended. Search finished for the next optimal point.\n",
      "Time taken: 1.8030\n",
      "Function value obtained: -0.2379\n",
      "Current minimum: -0.2934\n"
     ]
    }
   ],
   "source": [
    "res = forest_minimize(tune_lgbm, space, random_state=160745, n_random_starts=20, n_calls=50, verbose=1)"
   ],
   "metadata": {
    "collapsed": false,
    "pycharm": {
     "name": "#%%\n"
    }
   }
  },
  {
   "cell_type": "markdown",
   "source": [
    "Ao selecionar o atributo **x** após a aplicação da busca de melhores parâmetros, temos o melhor valor de cada parâmetro que decidi tunar."
   ],
   "metadata": {
    "collapsed": false
   }
  },
  {
   "cell_type": "code",
   "execution_count": 20,
   "outputs": [
    {
     "name": "stdout",
     "output_type": "stream",
     "text": [
      "\n",
      "lr: 0.07473498545892235\n",
      "max_depth: 9\n",
      "min_child_samples: 1\n",
      "subsample: 0.8020499855076734\n",
      "colsample_bytree: 0.10705426389117481\n",
      "n_estimators: 562\n",
      "min_df: 1\n",
      "ngram_range: 2\n",
      "\n"
     ]
    }
   ],
   "source": [
    "print(\"\"\"\n",
    "lr: {}\n",
    "max_depth: {}\n",
    "min_child_samples: {}\n",
    "subsample: {}\n",
    "colsample_bytree: {}\n",
    "n_estimators: {}\n",
    "min_df: {}\n",
    "ngram_range: {}\n",
    "\"\"\".format( res.x[0], res.x[1], res.x[2], res.x[3], res.x[4], res.x[5], res.x[6], res.x[7]))"
   ],
   "metadata": {
    "collapsed": false,
    "pycharm": {
     "name": "#%%\n"
    }
   }
  },
  {
   "cell_type": "markdown",
   "source": [
    "O atributo **fun** mostra qual a melhor métrica que o modelo conseguiu chegar."
   ],
   "metadata": {
    "collapsed": false
   }
  },
  {
   "cell_type": "code",
   "execution_count": 21,
   "outputs": [
    {
     "data": {
      "text/plain": "-0.293430888435203"
     },
     "execution_count": 21,
     "metadata": {},
     "output_type": "execute_result"
    }
   ],
   "source": [
    "res.fun"
   ],
   "metadata": {
    "collapsed": false,
    "pycharm": {
     "name": "#%%\n"
    }
   }
  },
  {
   "cell_type": "markdown",
   "source": [
    "### Logistic Regression"
   ],
   "metadata": {
    "collapsed": false
   }
  },
  {
   "cell_type": "markdown",
   "source": [
    "Nas próximas células, testo a aplicação de uma regressão logistica, alterando os tipos de scaler (já que esse algoritmo é sensível à amplitude dos dados)"
   ],
   "metadata": {
    "collapsed": false
   }
  },
  {
   "cell_type": "code",
   "execution_count": 22,
   "outputs": [],
   "source": [
    "from sklearn.preprocessing import MaxAbsScaler, StandardScaler\n",
    "from scipy.sparse import csr_matrix"
   ],
   "metadata": {
    "collapsed": false,
    "pycharm": {
     "name": "#%%\n"
    }
   }
  },
  {
   "cell_type": "code",
   "execution_count": 29,
   "outputs": [],
   "source": [
    "Xtrain_wtitle2 = csr_matrix(Xtrain_wtitle.copy())\n",
    "Xval_wtitle2 = csr_matrix(Xval_wtitle.copy())\n",
    "\n",
    "#scaler = StandardScaler()\n",
    "#Xtrain_wtitle2[: , :2] = scaler.fit_transform(Xtrain_wtitle2[: , :2].todense())\n",
    "#Xval_wtitle2[: , :2] = scaler.fit_transform(Xval_wtitle2[: , :2].todense())\n",
    "\n",
    "scaler = MaxAbsScaler()\n",
    "Xtrain_wtitle2 = scaler.fit_transform(Xtrain_wtitle2)\n",
    "Xval_wtitle2 = scaler.fit_transform(Xval_wtitle2)"
   ],
   "metadata": {
    "collapsed": false,
    "pycharm": {
     "name": "#%%\n"
    }
   }
  },
  {
   "cell_type": "code",
   "execution_count": 30,
   "outputs": [
    {
     "data": {
      "text/plain": "(651, 1529)"
     },
     "execution_count": 30,
     "metadata": {},
     "output_type": "execute_result"
    }
   ],
   "source": [
    "Xval_wtitle2.shape"
   ],
   "metadata": {
    "collapsed": false,
    "pycharm": {
     "name": "#%%\n"
    }
   }
  },
  {
   "cell_type": "code",
   "execution_count": 71,
   "outputs": [
    {
     "data": {
      "text/plain": "LogisticRegression(C=1.5, n_jobs=6, random_state=0)"
     },
     "execution_count": 71,
     "metadata": {},
     "output_type": "execute_result"
    }
   ],
   "source": [
    "mdl3 = LogisticRegression(C=1.5, n_jobs=6, random_state=0)\n",
    "mdl3.fit(Xtrain_wtitle2, ytrain)"
   ],
   "metadata": {
    "collapsed": false,
    "pycharm": {
     "name": "#%%\n"
    }
   }
  },
  {
   "cell_type": "code",
   "execution_count": 72,
   "outputs": [],
   "source": [
    "p = mdl3.predict_proba(Xval_wtitle2)[: , 1]"
   ],
   "metadata": {
    "collapsed": false,
    "pycharm": {
     "name": "#%%\n"
    }
   }
  },
  {
   "cell_type": "code",
   "execution_count": 73,
   "outputs": [
    {
     "data": {
      "text/plain": "0.28445728618896904"
     },
     "execution_count": 73,
     "metadata": {},
     "output_type": "execute_result"
    }
   ],
   "source": [
    "average_precision_score(yval, p)"
   ],
   "metadata": {
    "collapsed": false,
    "pycharm": {
     "name": "#%%\n"
    }
   }
  },
  {
   "cell_type": "code",
   "execution_count": 74,
   "outputs": [
    {
     "data": {
      "text/plain": "0.7430750457596095"
     },
     "execution_count": 74,
     "metadata": {},
     "output_type": "execute_result"
    }
   ],
   "source": [
    "roc_auc_score(yval, p)"
   ],
   "metadata": {
    "collapsed": false,
    "pycharm": {
     "name": "#%%\n"
    }
   }
  },
  {
   "cell_type": "markdown",
   "source": [
    "standard_scaler = acc: 0.2641978963609311 / roc: 0.7303233679072605\n",
    "abs_scaler = acc: 0.2828859479124313 / roc: 0.7421598535692494\n",
    "abs_scaler + C=1.5 = acc: 0.28294177477226495 / roc: 0.7429225137278829"
   ],
   "metadata": {
    "collapsed": false
   }
  },
  {
   "cell_type": "markdown",
   "source": [],
   "metadata": {
    "collapsed": false
   }
  },
  {
   "cell_type": "code",
   "execution_count": null,
   "outputs": [],
   "source": [],
   "metadata": {
    "collapsed": false,
    "pycharm": {
     "name": "#%%\n"
    }
   }
  }
 ],
 "metadata": {
  "kernelspec": {
   "display_name": "Python 3",
   "language": "python",
   "name": "python3"
  },
  "language_info": {
   "codemirror_mode": {
    "name": "ipython",
    "version": 2
   },
   "file_extension": ".py",
   "mimetype": "text/x-python",
   "name": "python",
   "nbconvert_exporter": "python",
   "pygments_lexer": "ipython2",
   "version": "2.7.6"
  }
 },
 "nbformat": 4,
 "nbformat_minor": 0
}