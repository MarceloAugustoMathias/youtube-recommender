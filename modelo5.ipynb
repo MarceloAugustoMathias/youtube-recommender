{
 "cells": [
  {
   "cell_type": "markdown",
   "source": [
    "Esse último notebook, é o qual eu crio de fato o modelo final que vai ser utilizado para a aplicação web.\n",
    "Nele, eu concentro esforço para criar um ensemble entre os 3 melhores modelos, e assim chegar em um resultado com uma melhor métrica e tendo cuidado para não aumentar muito a complexidade do modelo."
   ],
   "metadata": {
    "collapsed": false
   }
  },
  {
   "cell_type": "code",
   "execution_count": 58,
   "metadata": {
    "collapsed": true,
    "pycharm": {
     "name": "#%%\n"
    }
   },
   "outputs": [],
   "source": [
    "import pandas as pd\n",
    "from scipy.sparse import hstack\n",
    "\n",
    "from sklearn.model_selection import train_test_split\n",
    "from sklearn.feature_extraction.text import TfidfVectorizer\n",
    "from sklearn.metrics import roc_auc_score, average_precision_score\n",
    "from sklearn.preprocessing import MaxAbsScaler\n",
    "from scipy.sparse import csr_matrix\n",
    "from sklearn.pipeline import make_pipeline\n",
    "\n",
    "from lightgbm import LGBMClassifier\n",
    "from sklearn.ensemble import RandomForestClassifier\n",
    "from sklearn.linear_model import LogisticRegression"
   ]
  },
  {
   "cell_type": "code",
   "execution_count": 59,
   "outputs": [
    {
     "data": {
      "text/plain": "                                               title  y upload_date  \\\n0      \"Kaggle: command not found fix\" for Mac Users  0  30/11/2020   \n1  #1 - Data Science na PrÃ¡tica - Conhecendo o K...  0  03/08/2020   \n2  #AndroidDevChallenge - Helpful innovation, pow...  0  22/06/2020   \n3  #Data Science SQL Full Outer join Keyword | Ek...  0  28/08/2021   \n4  #Data Science SQL Left join Keyword | Ekasclou...  0  28/08/2021   \n\n   view_count  view_per_day  \n0         216        0.7855  \n1         808        2.0508  \n2     5779436    13255.5872  \n3           1        0.2500  \n4           0        0.0000  ",
      "text/html": "<div>\n<style scoped>\n    .dataframe tbody tr th:only-of-type {\n        vertical-align: middle;\n    }\n\n    .dataframe tbody tr th {\n        vertical-align: top;\n    }\n\n    .dataframe thead th {\n        text-align: right;\n    }\n</style>\n<table border=\"1\" class=\"dataframe\">\n  <thead>\n    <tr style=\"text-align: right;\">\n      <th></th>\n      <th>title</th>\n      <th>y</th>\n      <th>upload_date</th>\n      <th>view_count</th>\n      <th>view_per_day</th>\n    </tr>\n  </thead>\n  <tbody>\n    <tr>\n      <th>0</th>\n      <td>\"Kaggle: command not found fix\" for Mac Users</td>\n      <td>0</td>\n      <td>30/11/2020</td>\n      <td>216</td>\n      <td>0.7855</td>\n    </tr>\n    <tr>\n      <th>1</th>\n      <td>#1 - Data Science na PrÃ¡tica - Conhecendo o K...</td>\n      <td>0</td>\n      <td>03/08/2020</td>\n      <td>808</td>\n      <td>2.0508</td>\n    </tr>\n    <tr>\n      <th>2</th>\n      <td>#AndroidDevChallenge - Helpful innovation, pow...</td>\n      <td>0</td>\n      <td>22/06/2020</td>\n      <td>5779436</td>\n      <td>13255.5872</td>\n    </tr>\n    <tr>\n      <th>3</th>\n      <td>#Data Science SQL Full Outer join Keyword | Ek...</td>\n      <td>0</td>\n      <td>28/08/2021</td>\n      <td>1</td>\n      <td>0.2500</td>\n    </tr>\n    <tr>\n      <th>4</th>\n      <td>#Data Science SQL Left join Keyword | Ekasclou...</td>\n      <td>0</td>\n      <td>28/08/2021</td>\n      <td>0</td>\n      <td>0.0000</td>\n    </tr>\n  </tbody>\n</table>\n</div>"
     },
     "execution_count": 59,
     "metadata": {},
     "output_type": "execute_result"
    }
   ],
   "source": [
    "df = pd.read_csv(\"fully_annoteded.csv\").dropna(subset=['y'])\n",
    "\n",
    "df['view_per_day'] = round(df['view_count'] / df['tempo_desde_pub'], 4)\n",
    "df = df.drop(['tempo_desde_pub'], axis=1)\n",
    "df.head()"
   ],
   "metadata": {
    "collapsed": false,
    "pycharm": {
     "name": "#%%\n"
    }
   }
  },
  {
   "cell_type": "markdown",
   "source": [
    "### Random Forest Classifier"
   ],
   "metadata": {
    "collapsed": false
   }
  },
  {
   "cell_type": "code",
   "execution_count": 60,
   "outputs": [],
   "source": [
    "X = df.copy().drop(['y', 'upload_date'], axis=1)\n",
    "y = df['y']"
   ],
   "metadata": {
    "collapsed": false,
    "pycharm": {
     "name": "#%%\n"
    }
   }
  },
  {
   "cell_type": "code",
   "execution_count": 61,
   "outputs": [
    {
     "data": {
      "text/plain": "((531, 3), (651, 3), (531,), (651,))"
     },
     "execution_count": 61,
     "metadata": {},
     "output_type": "execute_result"
    }
   ],
   "source": [
    "Xtrain, Xval, ytrain, yval = train_test_split(X, y, test_size=0.55, random_state=0)\n",
    "Xtrain.shape, Xval.shape, ytrain.shape, yval.shape"
   ],
   "metadata": {
    "collapsed": false,
    "pycharm": {
     "name": "#%%\n"
    }
   }
  },
  {
   "cell_type": "code",
   "execution_count": 62,
   "outputs": [],
   "source": [
    "title_train = Xtrain['title']\n",
    "title_val = Xval['title']\n",
    "\n",
    "#min_df = minimo de exemplos de palavra\n",
    "#ngram_range = numero de unigramas\n",
    "title_vec = TfidfVectorizer(min_df=1, ngram_range=(1,1))\n",
    "title_bow_train = title_vec.fit_transform(title_train)\n",
    "title_bow_val = title_vec.transform(title_val)"
   ],
   "metadata": {
    "collapsed": false,
    "pycharm": {
     "name": "#%%\n"
    }
   }
  },
  {
   "cell_type": "code",
   "execution_count": 63,
   "outputs": [
    {
     "data": {
      "text/plain": "((531, 1529), (651, 1529))"
     },
     "execution_count": 63,
     "metadata": {},
     "output_type": "execute_result"
    }
   ],
   "source": [
    "Xtrain_wtitle = hstack([Xtrain.drop(['title'], axis=1), title_bow_train])\n",
    "Xval_wtitle = hstack([Xval.drop(['title'], axis=1), title_bow_val])\n",
    "\n",
    "Xtrain_wtitle.shape, Xval_wtitle.shape"
   ],
   "metadata": {
    "collapsed": false,
    "pycharm": {
     "name": "#%%\n"
    }
   }
  },
  {
   "cell_type": "markdown",
   "source": [],
   "metadata": {
    "collapsed": false
   }
  },
  {
   "cell_type": "code",
   "execution_count": 64,
   "outputs": [
    {
     "data": {
      "text/plain": "RandomForestClassifier(class_weight='balanced', n_jobs=6, random_state=0)"
     },
     "execution_count": 64,
     "metadata": {},
     "output_type": "execute_result"
    }
   ],
   "source": [
    "mdl = RandomForestClassifier(n_estimators=100, random_state=0, min_samples_leaf=1, class_weight='balanced', n_jobs=6)\n",
    "mdl.fit(Xtrain_wtitle, ytrain)"
   ],
   "metadata": {
    "collapsed": false,
    "pycharm": {
     "name": "#%%\n"
    }
   }
  },
  {
   "cell_type": "code",
   "execution_count": 65,
   "outputs": [
    {
     "name": "stdout",
     "output_type": "stream",
     "text": [
      "precision: 0.32113680450630394 and roc: 0.7318334350213545\n"
     ]
    }
   ],
   "source": [
    "p = mdl.predict_proba(Xval_wtitle)[ : , 1]\n",
    "print('precision: {} and roc: {}'.format(average_precision_score(yval, p), roc_auc_score(yval, p)))"
   ],
   "metadata": {
    "collapsed": false,
    "pycharm": {
     "name": "#%%\n"
    }
   }
  },
  {
   "cell_type": "markdown",
   "source": [
    "### LGBM (com os melhores parâmetros)"
   ],
   "metadata": {
    "collapsed": false,
    "pycharm": {
     "name": "#%% md\n"
    }
   }
  },
  {
   "cell_type": "code",
   "execution_count": 66,
   "outputs": [],
   "source": [
    "lr = 0.07473498545892235\n",
    "max_depth = 9\n",
    "min_child_samples = 1\n",
    "subsample = 0.8020499855076734\n",
    "colsample_bytree = 0.10705426389117481\n",
    "n_estimators = 562\n",
    "min_df = 1\n",
    "ngram_range = 2"
   ],
   "metadata": {
    "collapsed": false,
    "pycharm": {
     "name": "#%%\n"
    }
   }
  },
  {
   "cell_type": "code",
   "execution_count": 67,
   "outputs": [
    {
     "name": "stdout",
     "output_type": "stream",
     "text": [
      "[LightGBM] [Warning] bagging_freq is set=1, subsample_freq=0 will be ignored. Current value: bagging_freq=1\n"
     ]
    },
    {
     "data": {
      "text/plain": "LGBMClassifier(bagging_freq=1, class_weight='balanced',\n               colsample_bytree=0.10705426389117481,\n               learning_rate=0.07473498545892235, max_depth=9,\n               min_child_samples=1, n_estimators=562, n_jobs=6, num_leaves=512,\n               random_state=0, subsample=0.8020499855076734)"
     },
     "execution_count": 67,
     "metadata": {},
     "output_type": "execute_result"
    }
   ],
   "source": [
    "mdl2 = LGBMClassifier(learning_rate=lr, num_leaves=2 ** max_depth, max_depth=max_depth,\n",
    "                      min_child_samples=min_child_samples, subsample=subsample,\n",
    "                      colsample_bytree=colsample_bytree, bagging_freq=1, n_estimators=n_estimators, random_state=0,\n",
    "                      class_weight=\"balanced\", n_jobs=6)\n",
    "\n",
    "mdl2.fit(Xtrain_wtitle, ytrain)"
   ],
   "metadata": {
    "collapsed": false,
    "pycharm": {
     "name": "#%%\n"
    }
   }
  },
  {
   "cell_type": "code",
   "execution_count": 68,
   "outputs": [
    {
     "name": "stderr",
     "output_type": "stream",
     "text": [
      "D:\\Arquivos de Programas\\Anaconda\\lib\\site-packages\\lightgbm\\basic.py:739: UserWarning: Converting data to scipy sparse matrix.\n",
      "  _log_warning('Converting data to scipy sparse matrix.')\n"
     ]
    }
   ],
   "source": [
    "p2 = mdl2.predict_proba(Xval_wtitle)[ : , 1]"
   ],
   "metadata": {
    "collapsed": false,
    "pycharm": {
     "name": "#%%\n"
    }
   }
  },
  {
   "cell_type": "code",
   "execution_count": 69,
   "outputs": [
    {
     "name": "stdout",
     "output_type": "stream",
     "text": [
      "precision: 0.21154151038689378 and roc: 0.6838316046369737\n"
     ]
    }
   ],
   "source": [
    "print('precision: {} and roc: {}'.format(average_precision_score(yval, p2), roc_auc_score(yval, p2)))"
   ],
   "metadata": {
    "collapsed": false,
    "pycharm": {
     "name": "#%%\n"
    }
   }
  },
  {
   "cell_type": "markdown",
   "source": [
    "### Logistic Regression (com os melhores parâmetros)"
   ],
   "metadata": {
    "collapsed": false
   }
  },
  {
   "cell_type": "code",
   "execution_count": 70,
   "outputs": [],
   "source": [
    "Xtrain_wtitle2 = csr_matrix(Xtrain_wtitle.copy())\n",
    "Xval_wtitle2 = csr_matrix(Xval_wtitle.copy())"
   ],
   "metadata": {
    "collapsed": false,
    "pycharm": {
     "name": "#%%\n"
    }
   }
  },
  {
   "cell_type": "code",
   "execution_count": 71,
   "outputs": [
    {
     "data": {
      "text/plain": "Pipeline(steps=[('maxabsscaler', MaxAbsScaler()),\n                ('logisticregression',\n                 LogisticRegression(C=1.5, n_jobs=6, random_state=0))])"
     },
     "execution_count": 71,
     "metadata": {},
     "output_type": "execute_result"
    }
   ],
   "source": [
    "lr_pipeline = make_pipeline(MaxAbsScaler(), LogisticRegression(C=1.5, n_jobs=6, random_state=0))\n",
    "lr_pipeline.fit(Xtrain_wtitle2, ytrain)"
   ],
   "metadata": {
    "collapsed": false,
    "pycharm": {
     "name": "#%%\n"
    }
   }
  },
  {
   "cell_type": "code",
   "execution_count": 72,
   "outputs": [],
   "source": [
    "p_lr = lr_pipeline.predict_proba(Xval_wtitle2)[: , 1]"
   ],
   "metadata": {
    "collapsed": false,
    "pycharm": {
     "name": "#%%\n"
    }
   }
  },
  {
   "cell_type": "code",
   "execution_count": 73,
   "outputs": [
    {
     "name": "stdout",
     "output_type": "stream",
     "text": [
      "precision: 0.28204431852326695 and roc: 0.7373398413666871\n"
     ]
    }
   ],
   "source": [
    "print('precision: {} and roc: {}'.format(average_precision_score(yval, p_lr), roc_auc_score(yval, p_lr)))"
   ],
   "metadata": {
    "collapsed": false,
    "pycharm": {
     "name": "#%%\n"
    }
   }
  },
  {
   "cell_type": "markdown",
   "source": [
    "### Ensemble"
   ],
   "metadata": {
    "collapsed": false
   }
  },
  {
   "cell_type": "markdown",
   "source": [
    "Random Forest =       precision: 0.32113680450630394 and roc: 0.7318334350213545\n",
    "LGBM =                precision: 0.21154151038689378 and roc: 0.6838316046369737\n",
    "Logistic Regression = precision: 0.28204431852326695 and roc: 0.7373398413666871"
   ],
   "metadata": {
    "collapsed": false
   }
  },
  {
   "cell_type": "markdown",
   "source": [
    "Média Simples entre as previsões"
   ],
   "metadata": {
    "collapsed": false
   }
  },
  {
   "cell_type": "code",
   "execution_count": 74,
   "outputs": [
    {
     "name": "stdout",
     "output_type": "stream",
     "text": [
      "precision: 0.2729531626037601 and roc: 0.7363941427699817\n"
     ]
    }
   ],
   "source": [
    "p_ = (p + p2 + p_lr)\n",
    "print('precision: {} and roc: {}'.format(average_precision_score(yval, p_), roc_auc_score(yval, p_)))"
   ],
   "metadata": {
    "collapsed": false,
    "pycharm": {
     "name": "#%%\n"
    }
   }
  },
  {
   "cell_type": "markdown",
   "source": [
    "Gerando correlação de pearson entre as previsões dos modelos, pra ver se elas sao parecidas"
   ],
   "metadata": {
    "collapsed": false
   }
  },
  {
   "cell_type": "code",
   "execution_count": 75,
   "outputs": [
    {
     "data": {
      "text/plain": "            RF      LGBM        LR\nRF    1.000000  0.447122  0.752221\nLGBM  0.447122  1.000000  0.533269\nLR    0.752221  0.533269  1.000000",
      "text/html": "<div>\n<style scoped>\n    .dataframe tbody tr th:only-of-type {\n        vertical-align: middle;\n    }\n\n    .dataframe tbody tr th {\n        vertical-align: top;\n    }\n\n    .dataframe thead th {\n        text-align: right;\n    }\n</style>\n<table border=\"1\" class=\"dataframe\">\n  <thead>\n    <tr style=\"text-align: right;\">\n      <th></th>\n      <th>RF</th>\n      <th>LGBM</th>\n      <th>LR</th>\n    </tr>\n  </thead>\n  <tbody>\n    <tr>\n      <th>RF</th>\n      <td>1.000000</td>\n      <td>0.447122</td>\n      <td>0.752221</td>\n    </tr>\n    <tr>\n      <th>LGBM</th>\n      <td>0.447122</td>\n      <td>1.000000</td>\n      <td>0.533269</td>\n    </tr>\n    <tr>\n      <th>LR</th>\n      <td>0.752221</td>\n      <td>0.533269</td>\n      <td>1.000000</td>\n    </tr>\n  </tbody>\n</table>\n</div>"
     },
     "execution_count": 75,
     "metadata": {},
     "output_type": "execute_result"
    }
   ],
   "source": [
    "pd.DataFrame({\"RF\":p, \"LGBM\":p2, \"LR\":p_lr}).corr()"
   ],
   "metadata": {
    "collapsed": false,
    "pycharm": {
     "name": "#%%\n"
    }
   }
  },
  {
   "cell_type": "markdown",
   "source": [
    "A célula abaixo foi a qual eu testei diversas combinações entre os algoritmos, com a finalidade de achar o melhor ensemble entre eles."
   ],
   "metadata": {
    "collapsed": false
   }
  },
  {
   "cell_type": "code",
   "execution_count": 76,
   "outputs": [
    {
     "name": "stdout",
     "output_type": "stream",
     "text": [
      "precision: 0.3263577213482136 and roc: 0.7309945088468579\n"
     ]
    }
   ],
   "source": [
    "p_ = (0.9*p) + (0.1*p2)\n",
    "print('precision: {} and roc: {}'.format(average_precision_score(yval, p_), roc_auc_score(yval, p_)))"
   ],
   "metadata": {
    "collapsed": false,
    "pycharm": {
     "name": "#%%\n"
    }
   }
  },
  {
   "cell_type": "markdown",
   "source": [
    "precision: 0.2803321904364961 and roc: 0.7274862721171446 -> (0.5*p) + (0.5*p2)\n",
    "precision: 0.26942643781001285 and roc: 0.7266015863331299 -> (0.4*p) + (0.6*p2)\n",
    "precision: 0.2887393059269871 and roc: 0.7281574130567419 -> (0.6*p) + (0.4*p2)\n",
    "precision: 0.2985445675037923 and roc: 0.7290726052471018 -> (0.7*p) + (0.3*p2)\n",
    "precision: 0.30362248570034883 and roc: 0.7292556436851738 -> (0.8*p) + (0.2*p2)\n",
    "precision: 0.3263577213482136 and roc: 0.7309945088468579 -> (0.9*p) + (0.1*p2)"
   ],
   "metadata": {
    "collapsed": false,
    "pycharm": {
     "name": "#%% md\n"
    }
   }
  },
  {
   "cell_type": "markdown",
   "source": [
    "### Salvando os modelos"
   ],
   "metadata": {
    "collapsed": false
   }
  },
  {
   "cell_type": "code",
   "execution_count": 77,
   "outputs": [],
   "source": [
    "import joblib as jb"
   ],
   "metadata": {
    "collapsed": false,
    "pycharm": {
     "name": "#%%\n"
    }
   }
  },
  {
   "cell_type": "code",
   "execution_count": 57,
   "outputs": [
    {
     "data": {
      "text/plain": "['logistic_regression_2021_09_19.pkl.z']"
     },
     "execution_count": 57,
     "metadata": {},
     "output_type": "execute_result"
    }
   ],
   "source": [
    "jb.dump(mdl, \"random_forest_2021_09_19.pkl.z\")\n",
    "jb.dump(mdl2, \"lgbm_2021_09_19.pkl.z\")\n",
    "jb.dump(lr_pipeline, \"logistic_regression_2021_09_19.pkl.z\")\n",
    "jb.dump(title_vec, \"vectorize_2021_09_19.pkl.z\")"
   ],
   "metadata": {
    "collapsed": false,
    "pycharm": {
     "name": "#%%\n"
    }
   }
  }
 ],
 "metadata": {
  "kernelspec": {
   "display_name": "Python 3",
   "language": "python",
   "name": "python3"
  },
  "language_info": {
   "codemirror_mode": {
    "name": "ipython",
    "version": 2
   },
   "file_extension": ".py",
   "mimetype": "text/x-python",
   "name": "python",
   "nbconvert_exporter": "python",
   "pygments_lexer": "ipython2",
   "version": "2.7.6"
  }
 },
 "nbformat": 4,
 "nbformat_minor": 0
}