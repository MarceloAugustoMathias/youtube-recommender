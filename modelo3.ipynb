{
 "cells": [
  {
   "cell_type": "markdown",
   "source": [
    "Nesse notebook, eu apliquei a técnica de Active Learning (a qual descrevo no arquivo **modelo2.ipynb**)."
   ],
   "metadata": {
    "collapsed": false
   }
  },
  {
   "cell_type": "code",
   "execution_count": 37,
   "source": [
    "import pandas as pd\n",
    "\n",
    "from sklearn.model_selection import train_test_split\n",
    "from sklearn.ensemble import RandomForestClassifier"
   ],
   "outputs": [],
   "metadata": {}
  },
  {
   "cell_type": "code",
   "execution_count": 38,
   "source": [
    "df1 = pd.read_excel('raw_data_with_labels.xlsx').reset_index(drop=True)\n",
    "df1 = df1[df1['y'].notnull()]\n",
    "df1.shape"
   ],
   "outputs": [
    {
     "output_type": "execute_result",
     "data": {
      "text/plain": [
       "(500, 5)"
      ]
     },
     "metadata": {},
     "execution_count": 38
    }
   ],
   "metadata": {}
  },
  {
   "cell_type": "code",
   "execution_count": 39,
   "source": [
    "df2 = pd.read_csv('active_label1.csv', index_col=0).reset_index(drop=True)\n",
    "df2 = df2[df2['y'].notnull()]\n",
    "df2['novo'] = 1\n",
    "df2.shape"
   ],
   "outputs": [
    {
     "output_type": "execute_result",
     "data": {
      "text/plain": [
       "(100, 7)"
      ]
     },
     "metadata": {},
     "execution_count": 39
    }
   ],
   "metadata": {}
  },
  {
   "cell_type": "markdown",
   "source": [
    "Após a leitura do arquivo *active_label.csv* (o qual contém a minha classificação dos vídeos que o algoritmo esteve \"confuso\" a definir a classificação), eu gero uma métrica de **Precisão e ROC AUC** para avaliar o quanto o meu modelo tinha acertado com esses vídeos."
   ],
   "metadata": {
    "collapsed": false
   }
  },
  {
   "cell_type": "code",
   "execution_count": 40,
   "source": [
    "from sklearn.metrics import roc_auc_score, average_precision_score\n",
    "average_precision_score(df2['y'], df2['p']), roc_auc_score(df2['y'], df2['p'])"
   ],
   "outputs": [
    {
     "output_type": "execute_result",
     "data": {
      "text/plain": [
       "(0.1306875860584758, 0.47344228804902966)"
      ]
     },
     "metadata": {},
     "execution_count": 40
    }
   ],
   "metadata": {}
  },
  {
   "cell_type": "code",
   "execution_count": 43,
   "source": [
    "df = pd.concat([df1, df2.drop('p', axis=1)])\n",
    "df['novo'] = df['novo'].fillna(0)"
   ],
   "outputs": [],
   "metadata": {}
  },
  {
   "cell_type": "code",
   "execution_count": 44,
   "source": [
    "df['view_per_day'] = round(df['view_count'] / df['tempo_desde_pub'], 4)\n",
    "df = df.drop(['tempo_desde_pub'], axis=1)\n",
    "df.head()"
   ],
   "outputs": [
    {
     "output_type": "execute_result",
     "data": {
      "text/plain": [
       "                                               title    y  \\\n",
       "0              How Far is Too Far? | The Age of A.I.  0.0   \n",
       "1  AlphaGo - The Movie | Full award-winning docum...  0.0   \n",
       "2  Artificial intelligence and algorithms: pros a...  0.0   \n",
       "3  #AndroidDevChallenge - Helpful innovation, pow...  0.0   \n",
       "4  Become a DATA ANALYST with NO degree?!? The Go...  0.0   \n",
       "\n",
       "           upload_date  view_count  novo  view_per_day  \n",
       "0  2019-12-18 00:00:00    49218295   0.0    79002.0787  \n",
       "1  2020-03-13 00:00:00    26896993   0.0    50087.5102  \n",
       "2  2019-09-26 00:00:00     6424768   0.0     9100.2380  \n",
       "3  2020-06-22 00:00:00     5779436   0.0    13255.5872  \n",
       "4  2021-03-17 00:00:00     2037151   0.0    12125.8988  "
      ],
      "text/html": [
       "<div>\n",
       "<style scoped>\n",
       "    .dataframe tbody tr th:only-of-type {\n",
       "        vertical-align: middle;\n",
       "    }\n",
       "\n",
       "    .dataframe tbody tr th {\n",
       "        vertical-align: top;\n",
       "    }\n",
       "\n",
       "    .dataframe thead th {\n",
       "        text-align: right;\n",
       "    }\n",
       "</style>\n",
       "<table border=\"1\" class=\"dataframe\">\n",
       "  <thead>\n",
       "    <tr style=\"text-align: right;\">\n",
       "      <th></th>\n",
       "      <th>title</th>\n",
       "      <th>y</th>\n",
       "      <th>upload_date</th>\n",
       "      <th>view_count</th>\n",
       "      <th>novo</th>\n",
       "      <th>view_per_day</th>\n",
       "    </tr>\n",
       "  </thead>\n",
       "  <tbody>\n",
       "    <tr>\n",
       "      <th>0</th>\n",
       "      <td>How Far is Too Far? | The Age of A.I.</td>\n",
       "      <td>0.0</td>\n",
       "      <td>2019-12-18 00:00:00</td>\n",
       "      <td>49218295</td>\n",
       "      <td>0.0</td>\n",
       "      <td>79002.0787</td>\n",
       "    </tr>\n",
       "    <tr>\n",
       "      <th>1</th>\n",
       "      <td>AlphaGo - The Movie | Full award-winning docum...</td>\n",
       "      <td>0.0</td>\n",
       "      <td>2020-03-13 00:00:00</td>\n",
       "      <td>26896993</td>\n",
       "      <td>0.0</td>\n",
       "      <td>50087.5102</td>\n",
       "    </tr>\n",
       "    <tr>\n",
       "      <th>2</th>\n",
       "      <td>Artificial intelligence and algorithms: pros a...</td>\n",
       "      <td>0.0</td>\n",
       "      <td>2019-09-26 00:00:00</td>\n",
       "      <td>6424768</td>\n",
       "      <td>0.0</td>\n",
       "      <td>9100.2380</td>\n",
       "    </tr>\n",
       "    <tr>\n",
       "      <th>3</th>\n",
       "      <td>#AndroidDevChallenge - Helpful innovation, pow...</td>\n",
       "      <td>0.0</td>\n",
       "      <td>2020-06-22 00:00:00</td>\n",
       "      <td>5779436</td>\n",
       "      <td>0.0</td>\n",
       "      <td>13255.5872</td>\n",
       "    </tr>\n",
       "    <tr>\n",
       "      <th>4</th>\n",
       "      <td>Become a DATA ANALYST with NO degree?!? The Go...</td>\n",
       "      <td>0.0</td>\n",
       "      <td>2021-03-17 00:00:00</td>\n",
       "      <td>2037151</td>\n",
       "      <td>0.0</td>\n",
       "      <td>12125.8988</td>\n",
       "    </tr>\n",
       "  </tbody>\n",
       "</table>\n",
       "</div>"
      ]
     },
     "metadata": {},
     "execution_count": 44
    }
   ],
   "metadata": {}
  },
  {
   "cell_type": "markdown",
   "source": [
    "### Active Learning"
   ],
   "metadata": {
    "collapsed": false
   }
  },
  {
   "cell_type": "markdown",
   "source": [
    "**Aplicando a técnica de Active Learning**\n",
    "\n",
    "* Fiz a leitura dos novos dados, os quais categorizei mais alguns vídeos\n",
    "* Separei em treino e teste\n",
    "* Apliquei o modelo que já estava utilizando (TFIF com *min_df=2* e Random Forest com *n_estimators=1000*\n",
    "* Avaliei o modelo e comparei com os anteriores"
   ],
   "metadata": {
    "collapsed": false
   }
  },
  {
   "cell_type": "code",
   "execution_count": 45,
   "source": [
    "X = df.copy().drop(['y', 'upload_date'], axis=1)\n",
    "y = df['y']"
   ],
   "outputs": [],
   "metadata": {}
  },
  {
   "cell_type": "code",
   "execution_count": 46,
   "source": [
    "Xtrain, Xval, ytrain, yval = train_test_split(X, y, test_size=0.6, random_state=0)\n",
    "Xtrain.shape, Xval.shape, ytrain.shape, yval.shape"
   ],
   "outputs": [
    {
     "output_type": "execute_result",
     "data": {
      "text/plain": [
       "((240, 4), (360, 4), (240,), (360,))"
      ]
     },
     "metadata": {},
     "execution_count": 46
    }
   ],
   "metadata": {}
  },
  {
   "cell_type": "code",
   "execution_count": 47,
   "source": [
    "from sklearn.feature_extraction.text import TfidfVectorizer\n",
    "\n",
    "title_train = Xtrain['title']\n",
    "title_val = Xval['title']\n",
    "\n",
    "title_vec = TfidfVectorizer(min_df=2) #min_df = minimo de exemplos de palavra\n",
    "title_bow_train = title_vec.fit_transform(title_train)\n",
    "title_bow_val = title_vec.transform(title_val)"
   ],
   "outputs": [],
   "metadata": {}
  },
  {
   "cell_type": "code",
   "execution_count": 48,
   "source": [
    "title_bow_train.shape"
   ],
   "outputs": [
    {
     "output_type": "execute_result",
     "data": {
      "text/plain": [
       "(240, 217)"
      ]
     },
     "metadata": {},
     "execution_count": 48
    }
   ],
   "metadata": {}
  },
  {
   "cell_type": "code",
   "execution_count": 49,
   "source": [
    "from scipy.sparse import hstack\n",
    "\n",
    "Xtrain_wtitle = hstack([Xtrain.drop(['title'], axis=1), title_bow_train])\n",
    "Xval_wtitle = hstack([Xval.drop(['title'], axis=1), title_bow_val])"
   ],
   "outputs": [],
   "metadata": {}
  },
  {
   "cell_type": "code",
   "execution_count": 50,
   "source": [
    "Xtrain_wtitle.shape, Xval_wtitle.shape"
   ],
   "outputs": [
    {
     "output_type": "execute_result",
     "data": {
      "text/plain": [
       "((240, 220), (360, 220))"
      ]
     },
     "metadata": {},
     "execution_count": 50
    }
   ],
   "metadata": {}
  },
  {
   "cell_type": "code",
   "execution_count": 52,
   "source": [
    "mdl = RandomForestClassifier(n_estimators=1000, random_state=0, class_weight='balanced', n_jobs=6)\n",
    "mdl.fit(Xtrain_wtitle, ytrain)"
   ],
   "outputs": [
    {
     "output_type": "execute_result",
     "data": {
      "text/plain": [
       "RandomForestClassifier(class_weight='balanced', n_estimators=1000, n_jobs=6,\n",
       "                       random_state=0)"
      ]
     },
     "metadata": {},
     "execution_count": 52
    }
   ],
   "metadata": {}
  },
  {
   "cell_type": "code",
   "execution_count": 53,
   "source": [
    "p = mdl.predict_proba(Xval_wtitle)[ : , 1]"
   ],
   "outputs": [],
   "metadata": {}
  },
  {
   "cell_type": "code",
   "execution_count": 65,
   "source": [
    "print('precision: {} and roc: {}'.format(average_precision_score(yval, p), roc_auc_score(yval, p)))"
   ],
   "outputs": [
    {
     "output_type": "stream",
     "name": "stdout",
     "text": [
      "precision: 0.22625303141722752 and roc: 0.6403515625\n"
     ]
    }
   ],
   "metadata": {}
  },
  {
   "cell_type": "markdown",
   "source": [
    "O modelo com Active Learning não superou o modelo anterior.\n",
    "A precisão caiu 34% e o ROC AUC caiu 15%"
   ],
   "metadata": {
    "collapsed": false
   }
  },
  {
   "cell_type": "markdown",
   "source": [
    "## Aumentando o treino"
   ],
   "metadata": {}
  },
  {
   "cell_type": "markdown",
   "source": [
    "Minha próxima tentativa de melhorar o modelo, foi aumentando o número de dados para treino, porém essa aplicação tambem não positiva."
   ],
   "metadata": {
    "collapsed": false
   }
  },
  {
   "cell_type": "code",
   "execution_count": 66,
   "source": [
    "Xtrain, Xval, ytrain, yval = train_test_split(X, y, test_size=0.45, random_state=0)\n",
    "Xtrain.shape, Xval.shape, ytrain.shape, yval.shape\n",
    "\n",
    "title_train = Xtrain['title']\n",
    "title_val = Xval['title']\n",
    "\n",
    "title_vec = TfidfVectorizer(min_df=2) #min_df = minimo de exemplos de palavra\n",
    "title_bow_train = title_vec.fit_transform(title_train)\n",
    "title_bow_val = title_vec.transform(title_val)\n",
    "\n",
    "Xtrain_wtitle = hstack([Xtrain.drop(['title'], axis=1), title_bow_train])\n",
    "Xval_wtitle = hstack([Xval.drop(['title'], axis=1), title_bow_val])\n",
    "\n",
    "mdl = RandomForestClassifier(n_estimators=1000, random_state=0, class_weight='balanced', n_jobs=6)\n",
    "mdl.fit(Xtrain_wtitle, ytrain)\n",
    "\n",
    "p = mdl.predict_proba(Xval_wtitle)[ : , 1]\n",
    "\n",
    "print('precision: {} and roc: {}'.format(average_precision_score(yval, p), roc_auc_score(yval, p)))"
   ],
   "outputs": [
    {
     "output_type": "stream",
     "name": "stdout",
     "text": [
      "precision: 0.19466273955140856 and roc: 0.6481481481481481\n"
     ]
    }
   ],
   "metadata": {}
  },
  {
   "cell_type": "markdown",
   "source": [
    "MODELO 1\r\n",
    "    PRECISION: 0.11342732376793511\r\n",
    "    AUC: 0.4945302445302446\r\n",
    "\r\n",
    "MODELO 2\r\n",
    "    PRECISION: 0.32909939825559575\r\n",
    "    AUC: 0.7491956241956242\r\n",
    "\r\n",
    "MODELO 3\r\n",
    "    PRECISION: 0.22625303141722752\r\n",
    "    AUC: 0.6403515625\r\n",
    "\r\n",
    "MODELO 4\r\n",
    "    PRECISION: 0.19466273955140856 \r\n",
    "    AUC: 0.6481481481481481"
   ],
   "metadata": {}
  }
 ],
 "metadata": {
  "orig_nbformat": 4,
  "language_info": {
   "name": "python",
   "version": "3.8.8",
   "mimetype": "text/x-python",
   "codemirror_mode": {
    "name": "ipython",
    "version": 3
   },
   "pygments_lexer": "ipython3",
   "nbconvert_exporter": "python",
   "file_extension": ".py"
  },
  "kernelspec": {
   "name": "python3",
   "display_name": "Python 3.8.8 64-bit ('base': conda)"
  },
  "interpreter": {
   "hash": "587a51ddbfb680f90d5c22d4e7cd2f588780df6b3eef39086aba3fbb77a2077c"
  }
 },
 "nbformat": 4,
 "nbformat_minor": 2
}